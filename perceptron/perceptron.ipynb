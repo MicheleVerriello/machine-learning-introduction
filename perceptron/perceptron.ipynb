{
 "cells": [
  {
   "metadata": {},
   "cell_type": "markdown",
   "source": "### Perceptron",
   "id": "b683dc30563bd132"
  },
  {
   "metadata": {},
   "cell_type": "markdown",
   "source": "Imports",
   "id": "496697f64592b8c0"
  },
  {
   "cell_type": "code",
   "id": "initial_id",
   "metadata": {
    "collapsed": true,
    "ExecuteTime": {
     "end_time": "2024-09-19T14:45:46.582152Z",
     "start_time": "2024-09-19T14:45:46.579766Z"
    }
   },
   "source": "import numpy as np",
   "outputs": [],
   "execution_count": 57
  },
  {
   "metadata": {},
   "cell_type": "markdown",
   "source": "Perceptron Class",
   "id": "d0b7bfea37976ccd"
  },
  {
   "metadata": {
    "ExecuteTime": {
     "end_time": "2024-09-19T14:45:46.615233Z",
     "start_time": "2024-09-19T14:45:46.610593Z"
    }
   },
   "cell_type": "code",
   "source": [
    "class Perceptron:\n",
    "\n",
    "    \"\"\"\n",
    "    Parameters\n",
    "    ----------\n",
    "    eta: is the learning rate, can go from 0.00 to 1.00\n",
    "    n_iter: is the number of iterations, the maximum number of iterations is called epochs\n",
    "    random_state: is the seed for the numpy random number generator for initializing the weights\n",
    "    \n",
    "    Attributes\n",
    "    ----------\n",
    "    \n",
    "    w_ : the weights vector\n",
    "    b_ : the bias value\n",
    "    \n",
    "    \n",
    "    \n",
    "    \"\"\"\n",
    "\n",
    "    def __init__(self, eta=0.01, n_iter=50, random_state=1):\n",
    "        self.eta = eta\n",
    "        self.n_iter = n_iter\n",
    "        self.random_state = random_state\n",
    "        \n",
    "    \n",
    "    \n",
    "    def fit(self, X, y):\n",
    "        \"\"\"\n",
    "        Fit training data\n",
    "        :param X: shape is (n_examples, n_features)\n",
    "        :param y: shape is (n_examples), is the target values array\n",
    "        \"\"\"\n",
    "        \n",
    "        rgen = np.random.RandomState(self.random_state)\n",
    "        self.w_ = rgen.normal(loc=0.0, scale=0.01, size=X.shape[1])\n",
    "        self.b_ = np.float32(0.)\n",
    "        self.errors_ = []\n",
    "        \n",
    "        while True:\n",
    "            errors = 0\n",
    "            for xi, target in zip(X, y):\n",
    "                update = self.eta * (target - self.predict(xi))\n",
    "                self.w_ += update * xi\n",
    "                self.b_ += update\n",
    "                errors += int(update != 0.0)\n",
    "                \n",
    "            self.errors_.append(errors)\n",
    "            if errors == 0: \n",
    "                    break\n",
    "            \n",
    "        return self\n",
    "    \n",
    "    def net_input(self, X):\n",
    "        return np.dot(X, self.w_) + self.b_\n",
    "    \n",
    "    def predict(self, X):\n",
    "        \"\"\"Return class label after unit step\"\"\"\n",
    "        return np.where(self.net_input(X) >= 0.0, 1, 0)"
   ],
   "id": "3ba1d7d04f9f9820",
   "outputs": [],
   "execution_count": 58
  },
  {
   "metadata": {},
   "cell_type": "markdown",
   "source": [
    "### Training\n",
    "\n",
    "Loading dataset"
   ],
   "id": "5d25de1b9c0dd11b"
  },
  {
   "metadata": {
    "ExecuteTime": {
     "end_time": "2024-09-19T14:45:46.633487Z",
     "start_time": "2024-09-19T14:45:46.631361Z"
    }
   },
   "cell_type": "code",
   "source": [
    "import pandas as pd\n",
    "import matplotlib.pyplot as plt"
   ],
   "id": "d1ed3374e3d382c4",
   "outputs": [],
   "execution_count": 59
  },
  {
   "metadata": {
    "ExecuteTime": {
     "end_time": "2024-09-19T14:45:47.625149Z",
     "start_time": "2024-09-19T14:45:46.643961Z"
    }
   },
   "cell_type": "code",
   "source": [
    "s = 'https://archive.ics.uci.edu/ml/machine-learning-databases/iris/iris.data'\n",
    "\n",
    "df = pd.read_csv(s, header=None, encoding=u'utf-8')\n",
    "\n",
    "print(df.head())"
   ],
   "id": "2d535316b557238f",
   "outputs": [
    {
     "name": "stdout",
     "output_type": "stream",
     "text": [
      "     0    1    2    3            4\n",
      "0  5.1  3.5  1.4  0.2  Iris-setosa\n",
      "1  4.9  3.0  1.4  0.2  Iris-setosa\n",
      "2  4.7  3.2  1.3  0.2  Iris-setosa\n",
      "3  4.6  3.1  1.5  0.2  Iris-setosa\n",
      "4  5.0  3.6  1.4  0.2  Iris-setosa\n"
     ]
    }
   ],
   "execution_count": 60
  },
  {
   "metadata": {},
   "cell_type": "markdown",
   "source": "Extracting only useful features",
   "id": "14cdbff24e5b7c32"
  },
  {
   "metadata": {
    "ExecuteTime": {
     "end_time": "2024-09-19T14:45:47.697381Z",
     "start_time": "2024-09-19T14:45:47.634150Z"
    }
   },
   "cell_type": "code",
   "source": [
    "# Select only setosa and versicolor\n",
    "y = df.iloc[0:100, 4].values\n",
    "y = np.where(y == 'Iris-setosa', 0, 1)\n",
    "\n",
    "# Extract sepal and petal length\n",
    "X = df.iloc[0:100, [0, 2]].values\n",
    "\n",
    "# Plot data\n",
    "plt.scatter(X[:50, 0], X[:50, 1], c='red', marker='o', label='Setosa')\n",
    "plt.scatter(X[50:100, 0], X[50:100, 1], c='blue', marker='s', label='Versicolor')\n",
    "plt.xlabel('Sepal length [cm]')\n",
    "plt.ylabel('Petal length [cm]')\n",
    "plt.legend(loc='upper left')\n",
    "plt.show()"
   ],
   "id": "b6b0fba7f726fcd2",
   "outputs": [
    {
     "data": {
      "text/plain": [
       "<Figure size 640x480 with 1 Axes>"
      ],
      "image/png": "[encoded data removed]"
     },
     "metadata": {},
     "output_type": "display_data"
    }
   ],
   "execution_count": 61
  },
  {
   "metadata": {},
   "cell_type": "markdown",
   "source": "Training",
   "id": "70d8bc41d540f513"
  },
  {
   "metadata": {
    "ExecuteTime": {
     "end_time": "2024-09-19T14:45:47.760077Z",
     "start_time": "2024-09-19T14:45:47.704529Z"
    }
   },
   "cell_type": "code",
   "source": [
    "from datetime import datetime\n",
    "\n",
    "ppn = Perceptron(eta=0.01, n_iter=6)\n",
    "start = datetime.now()\n",
    "print(start)\n",
    "ppn.fit(X, y)\n",
    "\n",
    "end = datetime.now()\n",
    "print(end)\n",
    "print(\"total time: \", end - start)\n",
    "\n",
    "plt.plot(range(1, len(ppn.errors_) + 1), ppn.errors_, marker='o')\n",
    "plt.xlabel('Epochs')\n",
    "plt.ylabel('Number of updates')\n",
    "plt.show()"
   ],
   "id": "eb72c6d922332d39",
   "outputs": [
    {
     "name": "stdout",
     "output_type": "stream",
     "text": [
      "2024-09-19 16:45:47.705808\n",
      "2024-09-19 16:45:47.709863\n",
      "total time:  0:00:00.004055\n"
     ]
    },
    {
     "data": {
      "text/plain": [
       "<Figure size 640x480 with 1 Axes>"
      ],
      "image/png": "[encoded data removed]"
     },
     "metadata": {},
     "output_type": "display_data"
    }
   ],
   "execution_count": 62
  }
 ],
 "metadata": {
  "kernelspec": {
   "display_name": "Python 3",
   "language": "python",
   "name": "python3"
  },
  "language_info": {
   "codemirror_mode": {
    "name": "ipython",
    "version": 2
   },
   "file_extension": ".py",
   "mimetype": "text/x-python",
   "name": "python",
   "nbconvert_exporter": "python",
   "pygments_lexer": "ipython2",
   "version": "2.7.6"
  }
 },
 "nbformat": 4,
 "nbformat_minor": 5
}
