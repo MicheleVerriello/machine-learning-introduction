{
 "cells": [
  {
   "metadata": {},
   "cell_type": "markdown",
   "source": "### Logistic Regression Implementation with Full-Batch gradient descent",
   "id": "b683dc30563bd132"
  },
  {
   "metadata": {},
   "cell_type": "markdown",
   "source": "Imports",
   "id": "496697f64592b8c0"
  },
  {
   "cell_type": "code",
   "id": "initial_id",
   "metadata": {
    "collapsed": true,
    "ExecuteTime": {
     "end_time": "2024-09-23T15:13:17.067742Z",
     "start_time": "2024-09-23T15:13:17.065089Z"
    }
   },
   "source": "import numpy as np",
   "outputs": [],
   "execution_count": 48
  },
  {
   "metadata": {},
   "cell_type": "markdown",
   "source": "",
   "id": "d0b7bfea37976ccd"
  },
  {
   "metadata": {
    "ExecuteTime": {
     "end_time": "2024-09-23T15:13:17.090914Z",
     "start_time": "2024-09-23T15:13:17.085738Z"
    }
   },
   "cell_type": "code",
   "source": [
    "class LogisticRegressionGD:\n",
    "    \"\"\"Gradient descent-based logistic-regression classifier\"\"\"\n",
    "\n",
    "    \"\"\"\n",
    "    Parameters\n",
    "    ----------\n",
    "    eta: is the learning rate, can go from 0.00 to 1.00\n",
    "    n_iter: is the number of iterations, the maximum number of iterations is called epochs\n",
    "    random_state: is the seed for the numpy random number generator for initializing the weights\n",
    "    \n",
    "    Attributes\n",
    "    ----------\n",
    "    \n",
    "    w_ : the weights vector\n",
    "    b_ : the bias value\n",
    "    \n",
    "    \n",
    "    \n",
    "    \"\"\"\n",
    "\n",
    "    def __init__(self, eta=0.01, n_iter=50, random_state=1):\n",
    "        self.eta = eta\n",
    "        self.n_iter = n_iter\n",
    "        self.random_state = random_state\n",
    "        \n",
    "    \n",
    "    \n",
    "    def fit(self, X, y):\n",
    "        \"\"\"\n",
    "        Fit training data\n",
    "        :param X: shape is (n_examples, n_features)\n",
    "        :param y: shape is (n_examples), is the target values array\n",
    "        \"\"\"\n",
    "        \n",
    "        rgen = np.random.RandomState(self.random_state)\n",
    "        self.w_ = rgen.normal(loc=0.0, scale=0.01, size=X.shape[1])\n",
    "        self.b_ = np.float32(0.)\n",
    "        self.losses_ = []\n",
    "        \n",
    "        for i in range(self.n_iter):\n",
    "            \n",
    "            \"\"\"\n",
    "            Instead of updating the weights after each training sample, we calculate the gradient based on the whole training dataset\n",
    "            \"\"\"            \n",
    "            net_input = self.net_input(X)\n",
    "            output = self.activation(net_input)\n",
    "            errors = (y - output)\n",
    "            self.w_ = self.eta * 2.0 * X.T.dot(errors) / X.shape[0]    \n",
    "            self.b_ = self.eta * errors.mean()\n",
    "            loss = (-y.dot(np.log(output)) - ((1 - y).dot(np.log(1 - output))) / X.shape[0])\n",
    "            self.losses_.append(loss)\n",
    "        \n",
    "        return self\n",
    "    \n",
    "    def net_input(self, X):\n",
    "        return np.dot(X, self.w_) + self.b_\n",
    "    \n",
    "    def activation(self, net_input):\n",
    "        \"\"\"Logistic sigmoid activation function\"\"\"\n",
    "        return 1 / (1 + np.exp(-net_input))\n",
    "    \n",
    "    def predict(self, X):\n",
    "        \"\"\"Return class label after unit step\"\"\"\n",
    "        return np.where(self.activation(self.net_input(X)) >= 0.5, 1, 0)"
   ],
   "id": "3ba1d7d04f9f9820",
   "outputs": [],
   "execution_count": 49
  },
  {
   "metadata": {},
   "cell_type": "markdown",
   "source": [
    "### Training\n",
    "\n",
    "Loading dataset"
   ],
   "id": "5d25de1b9c0dd11b"
  },
  {
   "metadata": {
    "ExecuteTime": {
     "end_time": "2024-09-23T15:13:17.095677Z",
     "start_time": "2024-09-23T15:13:17.093973Z"
    }
   },
   "cell_type": "code",
   "source": [
    "import pandas as pd\n",
    "import matplotlib.pyplot as plt"
   ],
   "id": "d1ed3374e3d382c4",
   "outputs": [],
   "execution_count": 50
  },
  {
   "metadata": {
    "ExecuteTime": {
     "end_time": "2024-09-23T15:13:17.833383Z",
     "start_time": "2024-09-23T15:13:17.105356Z"
    }
   },
   "cell_type": "code",
   "source": [
    "s = 'https://archive.ics.uci.edu/ml/machine-learning-databases/iris/iris.data'\n",
    "\n",
    "df = pd.read_csv(s, header=None, encoding=u'utf-8')\n",
    "\n",
    "print(df.head())"
   ],
   "id": "2d535316b557238f",
   "outputs": [
    {
     "name": "stdout",
     "output_type": "stream",
     "text": [
      "     0    1    2    3            4\n",
      "0  5.1  3.5  1.4  0.2  Iris-setosa\n",
      "1  4.9  3.0  1.4  0.2  Iris-setosa\n",
      "2  4.7  3.2  1.3  0.2  Iris-setosa\n",
      "3  4.6  3.1  1.5  0.2  Iris-setosa\n",
      "4  5.0  3.6  1.4  0.2  Iris-setosa\n"
     ]
    }
   ],
   "execution_count": 51
  },
  {
   "metadata": {},
   "cell_type": "markdown",
   "source": "Extracting only useful features",
   "id": "14cdbff24e5b7c32"
  },
  {
   "metadata": {
    "ExecuteTime": {
     "end_time": "2024-09-23T15:13:17.960393Z",
     "start_time": "2024-09-23T15:13:17.898433Z"
    }
   },
   "cell_type": "code",
   "source": [
    "# Select only setosa and versicolor\n",
    "y = df.iloc[0:100, 4].values\n",
    "y = np.where(y == 'Iris-setosa', 0, 1)\n",
    "\n",
    "# Extract sepal and petal length\n",
    "X = df.iloc[0:100, [0, 2]].values\n",
    "\n",
    "# Plot data\n",
    "plt.scatter(X[:50, 0], X[:50, 1], c='red', marker='o', label='Setosa')\n",
    "plt.scatter(X[50:100, 0], X[50:100, 1], c='blue', marker='s', label='Versicolor')\n",
    "plt.xlabel('Sepal length [cm]')\n",
    "plt.ylabel('Petal length [cm]')\n",
    "plt.legend(loc='upper left')\n",
    "plt.show()"
   ],
   "id": "b6b0fba7f726fcd2",
   "outputs": [
    {
     "data": {
      "text/plain": [
       "<Figure size 640x480 with 1 Axes>"
      ],
      "image/png": "[encoded data removed]"
     },
     "metadata": {},
     "output_type": "display_data"
    }
   ],
   "execution_count": 52
  },
  {
   "metadata": {},
   "cell_type": "markdown",
   "source": "Training",
   "id": "70d8bc41d540f513"
  },
  {
   "metadata": {
    "ExecuteTime": {
     "end_time": "2024-09-23T15:13:18.020659Z",
     "start_time": "2024-09-23T15:13:17.969608Z"
    }
   },
   "cell_type": "code",
   "source": [
    "from sklearn.preprocessing import StandardScaler\n",
    "from sklearn.model_selection import train_test_split\n",
    "\n",
    "# stratify = y means that the method will return training and test subsets, that have the same proportions of class labels and input dataset\n",
    "# test_size = 0.3 means that 30% of our dataset will be used for testing\n",
    "X_train, X_test, y_train, y_test = train_test_split(X, y, test_size=0.3, random_state=1, stratify=y)\n",
    "\n",
    "standardScaler = StandardScaler()\n",
    "standardScaler.fit(X_train)\n",
    "X_train_std = standardScaler.transform(X_train)\n",
    "X_test_std = standardScaler.transform(X_test)\n",
    "\n",
    "logreg = LogisticRegressionGD(eta=0.32, n_iter=15, random_state=1)\n",
    "logreg.fit(X_train_std, y_train)\n",
    "\n",
    "\n",
    "plt.plot(range(1, len(logreg.losses_) + 1), logreg.losses_, marker='o')\n",
    "plt.xlabel('Epochs')\n",
    "plt.ylabel('Loss')\n",
    "plt.show()"
   ],
   "id": "eb72c6d922332d39",
   "outputs": [
    {
     "data": {
      "text/plain": [
       "<Figure size 640x480 with 1 Axes>"
      ],
      "image/png": "[encoded data removed]"
     },
     "metadata": {},
     "output_type": "display_data"
    }
   ],
   "execution_count": 53
  }
 ],
 "metadata": {
  "kernelspec": {
   "display_name": "Python 3",
   "language": "python",
   "name": "python3"
  },
  "language_info": {
   "codemirror_mode": {
    "name": "ipython",
    "version": 2
   },
   "file_extension": ".py",
   "mimetype": "text/x-python",
   "name": "python",
   "nbconvert_exporter": "python",
   "pygments_lexer": "ipython2",
   "version": "2.7.6"
  }
 },
 "nbformat": 4,
 "nbformat_minor": 5
}
