{
 "cells": [
  {
   "metadata": {},
   "cell_type": "markdown",
   "source": "# Stratified K-Fold Cross-Validation",
   "id": "fa048ab7ecb0e069"
  },
  {
   "metadata": {
    "ExecuteTime": {
     "end_time": "2024-10-05T13:37:34.058945Z",
     "start_time": "2024-10-05T13:37:32.764965Z"
    }
   },
   "cell_type": "code",
   "source": [
    "import pandas as pd\n",
    "import numpy as np\n",
    "from sklearn.linear_model import LogisticRegression\n",
    "from sklearn.decomposition import PCA\n",
    "from sklearn.model_selection import train_test_split\n",
    "from sklearn.model_selection import StratifiedKFold\n",
    "from sklearn.pipeline import make_pipeline\n",
    "from sklearn.preprocessing import LabelEncoder, StandardScaler\n",
    "\n",
    "# Loading the Breast Cancer Wisconsin dataset\n",
    "\n",
    "df = pd.read_csv('https://archive.ics.uci.edu/ml/machine-learning-databases/breast-cancer-wisconsin/wdbc.data',\n",
    "header=None\n",
    ")\n",
    "\n",
    "X = df.loc[:, 2:].values\n",
    "y = df.loc[:, 1].values\n",
    "le = LabelEncoder()\n",
    "y = le.fit_transform(y)\n",
    "\n",
    "\n",
    "\n",
    "\n",
    "X_train, X_test, y_train, y_test = train_test_split(X, y, test_size=0.2, random_state=1, stratify=y)\n",
    "\n",
    "\n",
    "\n",
    "kfold = StratifiedKFold(n_splits=10).split(X_train, y_train)\n",
    "scores = []\n",
    "\n",
    "\n",
    "\n",
    "pipeline = make_pipeline(StandardScaler(), \n",
    "                         PCA(n_components=2),\n",
    "                         LogisticRegression())\n",
    "\n",
    "for k, (train, test) in enumerate(kfold):\n",
    "    pipeline.fit(X_train[train], y_train[train])\n",
    "    score = pipeline.score(X_train[test], y_train[test])\n",
    "    scores.append(score)\n",
    "    print(f'Fold {k+1}, Class distribution: {np.bincount(y_train[train])} Acc: {score}')\n",
    "    \n",
    "mean_acc = np.mean(scores)\n",
    "std_acc = np.std(scores)\n",
    "print(f'Mean accuracy score: {mean_acc:.3f} +/- {std_acc:.3f}')"
   ],
   "id": "dd56cbdbc9af9b00",
   "outputs": [
    {
     "name": "stdout",
     "output_type": "stream",
     "text": [
      "Fold 1, Class distribution: [256 153] Acc: 0.9347826086956522\n",
      "Fold 2, Class distribution: [256 153] Acc: 0.9347826086956522\n",
      "Fold 3, Class distribution: [256 153] Acc: 0.9565217391304348\n",
      "Fold 4, Class distribution: [256 153] Acc: 0.9565217391304348\n",
      "Fold 5, Class distribution: [256 153] Acc: 0.9347826086956522\n",
      "Fold 6, Class distribution: [257 153] Acc: 0.9555555555555556\n",
      "Fold 7, Class distribution: [257 153] Acc: 0.9777777777777777\n",
      "Fold 8, Class distribution: [257 153] Acc: 0.9333333333333333\n",
      "Fold 9, Class distribution: [257 153] Acc: 0.9555555555555556\n",
      "Fold 10, Class distribution: [257 153] Acc: 0.9555555555555556\n",
      "Mean accuracy score: 0.950 +/- 0.014\n"
     ]
    }
   ],
   "execution_count": 7
  },
  {
   "metadata": {},
   "cell_type": "markdown",
   "source": "# Stratified K-Fold Cross-Validation with Scikit-Learn",
   "id": "192cca42f5ad129e"
  },
  {
   "metadata": {
    "ExecuteTime": {
     "end_time": "2024-10-05T13:42:05.604708Z",
     "start_time": "2024-10-05T13:42:05.572780Z"
    }
   },
   "cell_type": "code",
   "source": [
    "from sklearn.model_selection import cross_val_score\n",
    "\n",
    "scores = cross_val_score(pipeline, X_train, y_train, cv=10, n_jobs=1)\n",
    "\n",
    "print(f'CV accuracy scores: {scores}')\n",
    "\n",
    "print(f'Mean accuracy score: {np.mean(scores):.3f} +/- {np.std(scores):.3f}')"
   ],
   "id": "599ddde233a36aa9",
   "outputs": [
    {
     "name": "stdout",
     "output_type": "stream",
     "text": [
      "CV accuracy scores: [0.93478261 0.93478261 0.95652174 0.95652174 0.93478261 0.95555556\n",
      " 0.97777778 0.93333333 0.95555556 0.95555556]\n",
      "Mean accuracy score: 0.950 +/- 0.014\n"
     ]
    }
   ],
   "execution_count": 9
  }
 ],
 "metadata": {
  "kernelspec": {
   "display_name": "Python 3",
   "language": "python",
   "name": "python3"
  },
  "language_info": {
   "codemirror_mode": {
    "name": "ipython",
    "version": 2
   },
   "file_extension": ".py",
   "mimetype": "text/x-python",
   "name": "python",
   "nbconvert_exporter": "python",
   "pygments_lexer": "ipython2",
   "version": "2.7.6"
  }
 },
 "nbformat": 4,
 "nbformat_minor": 5
}
