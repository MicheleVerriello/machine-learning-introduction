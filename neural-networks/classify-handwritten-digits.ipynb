{
 "cells": [
  {
   "metadata": {},
   "cell_type": "markdown",
   "source": "# Classifying Handwritten Digits",
   "id": "55ef17e8249f1482"
  },
  {
   "metadata": {},
   "cell_type": "markdown",
   "source": [
    "#### Obtaining and preparing the MNIST dataset \n",
    "\n",
    "The images in the MNIST dataset consist of 28×28 pixels, and each pixel is represented by a grayscale\n",
    "intensity value.<br>\n",
    "For each image, the pixels are represented as a row with 784 features (28 x 28 pixels)"
   ],
   "id": "69b73436f68e1244"
  },
  {
   "cell_type": "code",
   "id": "initial_id",
   "metadata": {
    "collapsed": true,
    "ExecuteTime": {
     "end_time": "2024-10-14T14:17:43.669551Z",
     "start_time": "2024-10-14T14:17:41.093622Z"
    }
   },
   "source": [
    "from sklearn.datasets import fetch_openml\n",
    "\n",
    "X, y = fetch_openml('mnist_784', version=1, return_X_y=True)\n",
    "\n",
    "X = X.values\n",
    "y = y.astype(int).values\n",
    "\n",
    "print(f'X shape = {X.shape} - y shape = {y.shape}')"
   ],
   "outputs": [
    {
     "name": "stdout",
     "output_type": "stream",
     "text": [
      "X shape = (70000, 784) - y shape = (70000,)\n"
     ]
    }
   ],
   "execution_count": 1
  },
  {
   "metadata": {},
   "cell_type": "markdown",
   "source": [
    "### Normalizing the pixel into the range -1, 1 (originally 0 to 255)\n",
    "\n",
    "The reason is that the gradient-based optimization is more stable under these condition.\n",
    "While working with images put the pixels into the range -1, 1 is a common approach"
   ],
   "id": "facbd23aea067a6e"
  },
  {
   "metadata": {
    "ExecuteTime": {
     "end_time": "2024-10-14T14:17:43.754175Z",
     "start_time": "2024-10-14T14:17:43.674232Z"
    }
   },
   "cell_type": "code",
   "source": "X = ((X / 255.) - .5) * 2",
   "id": "684c928cb440fa5d",
   "outputs": [],
   "execution_count": 2
  },
  {
   "metadata": {},
   "cell_type": "markdown",
   "source": [
    "#### Divide the dataset into training and testing\n",
    "Creating a training, validation and test subsets"
   ],
   "id": "e0873365b2b4dfd7"
  },
  {
   "metadata": {
    "ExecuteTime": {
     "end_time": "2024-10-14T14:17:44.155553Z",
     "start_time": "2024-10-14T14:17:43.820554Z"
    }
   },
   "cell_type": "code",
   "source": [
    "from sklearn.model_selection import train_test_split\n",
    "\n",
    "X_temp, X_test, y_temp, y_test = train_test_split(X, y, test_size=10000, stratify=y, random_state=123)\n",
    "\n",
    "X_train, X_validation, y_train, y_validation = train_test_split(X_temp, y_temp, test_size=5000, random_state=123, stratify=y_temp)"
   ],
   "id": "3b5cc351ffedec91",
   "outputs": [],
   "execution_count": 3
  },
  {
   "metadata": {},
   "cell_type": "markdown",
   "source": [
    "### Implementing a Multilayer Perceptron (MLP)\n",
    "Importing our Neural Network"
   ],
   "id": "1d66db5c50e39df8"
  },
  {
   "metadata": {
    "ExecuteTime": {
     "end_time": "2024-10-14T14:17:44.165313Z",
     "start_time": "2024-10-14T14:17:44.162810Z"
    }
   },
   "cell_type": "code",
   "source": [
    "from NeuralNetMLP import NeuralNetMLP, init_to_onehot\n",
    "\n",
    "\n",
    "# model = NeuralNetMLP(num_features=28*28, num_hidden=50, num_classes=10)\n"
   ],
   "id": "2ad9fa5cc4c10794",
   "outputs": [],
   "execution_count": 4
  },
  {
   "metadata": {},
   "cell_type": "markdown",
   "source": "#### Coding the neural network training loop",
   "id": "d39e15f2660fced5"
  },
  {
   "metadata": {
    "ExecuteTime": {
     "end_time": "2024-10-14T14:17:44.173894Z",
     "start_time": "2024-10-14T14:17:44.171482Z"
    }
   },
   "cell_type": "code",
   "source": [
    "import numpy as np\n",
    "\n",
    "num_epochs = 50\n",
    "minibatch_size = 100\n",
    "\n",
    "# Separate our dataset in batch of 100 rows to allow us to perform the stochastic gradient descent training\n",
    "def minibatch_generator(X, y, minibatch_size):\n",
    "    indices = np.arange(X.shape[0])\n",
    "    np.random.shuffle(indices)\n",
    "    \n",
    "    for start_idx in range(0, indices.shape[0] - minibatch_size + 1, minibatch_size):\n",
    "        batch_idx = indices[start_idx:start_idx + minibatch_size]\n",
    "        yield X[batch_idx], y[batch_idx]\n"
   ],
   "id": "d26e8f4de4858730",
   "outputs": [],
   "execution_count": 5
  },
  {
   "metadata": {},
   "cell_type": "markdown",
   "source": [
    "#### Define the loss function\n",
    "We will use the MSE "
   ],
   "id": "72533be58eb985a9"
  },
  {
   "metadata": {
    "ExecuteTime": {
     "end_time": "2024-10-14T14:17:44.181819Z",
     "start_time": "2024-10-14T14:17:44.179957Z"
    }
   },
   "cell_type": "code",
   "source": [
    "def mse_loss(targets, probas, num_labels=10):\n",
    "    onehot_targets = init_to_onehot(targets, num_labels)\n",
    "    return np.mean((onehot_targets - probas) ** 2)\n",
    "\n",
    "def accuracy(targets, predicted_labels):\n",
    "    return np.mean(predicted_labels == targets)"
   ],
   "id": "2f2779c451037b1",
   "outputs": [],
   "execution_count": 6
  },
  {
   "metadata": {},
   "cell_type": "markdown",
   "source": [
    "#### Computing MSE and Accuracy \n",
    "We will compute the MSE and Accuracy incrementally by iterating over the dataset one mini-batch at time, to be more memory efficient."
   ],
   "id": "ce1e2a83bd1370c1"
  },
  {
   "metadata": {
    "ExecuteTime": {
     "end_time": "2024-10-14T14:17:44.190503Z",
     "start_time": "2024-10-14T14:17:44.187757Z"
    }
   },
   "cell_type": "code",
   "source": [
    "def compute_mse_and_accuracy(nnet, X, y, num_labels=10, minibatch_size=100):\n",
    "    mse, correct_predictions, num_examples = 0., 0, 0\n",
    "    minibatch_gen = minibatch_generator(X, y, minibatch_size)\n",
    "    for i, (features, targets) in enumerate(minibatch_gen):\n",
    "        _, probas = nnet.forward(features)\n",
    "        predicted_labels = np.argmax(probas, axis=1)\n",
    "\n",
    "        # Calcolo della loss MSE\n",
    "        loss = mse_loss(targets, probas, num_labels)\n",
    "        mse += loss * features.shape[0]\n",
    "\n",
    "        # Calcolo delle predizioni corrette\n",
    "        correct_predictions += np.sum(predicted_labels == targets)\n",
    "        num_examples += targets.shape[0]\n",
    "\n",
    "    mse /= num_examples\n",
    "    accuracy_val = correct_predictions / num_examples\n",
    "    return mse, accuracy_val"
   ],
   "id": "26ef11bcdb3acade",
   "outputs": [],
   "execution_count": 7
  },
  {
   "metadata": {},
   "cell_type": "markdown",
   "source": "### Implementing the training loop",
   "id": "d612d16522c0de57"
  },
  {
   "metadata": {
    "ExecuteTime": {
     "end_time": "2024-10-14T14:17:44.199899Z",
     "start_time": "2024-10-14T14:17:44.196743Z"
    }
   },
   "cell_type": "code",
   "source": [
    "def train(model, X_train, y_train, X_validation, y_validation, num_epochs, learning_rate=0.1):\n",
    "    epoch_loss = []\n",
    "    epoch_training_accuracy = []\n",
    "    epoch_validation_accuracy = []\n",
    "    \n",
    "    for epoch in range(num_epochs):\n",
    "        # iterate over minibatches\n",
    "        minibatch_gen = minibatch_generator(X_train, y_train, minibatch_size)\n",
    "        \n",
    "        for X_train_mini, y_train_mini in minibatch_gen:\n",
    "            # Compute outputs\n",
    "            a_h, a_out = model.forward(X_train_mini)\n",
    "            \n",
    "            # Compute gradients\n",
    "            d_loss__d_w_out, d_loss__d_b_out, d_loss__d_w_h, d_loss__d_b_h = model.backward(X_train_mini, a_h, a_out, y_train_mini)\n",
    "            \n",
    "            # Update weights\n",
    "            model.weight_h -= learning_rate * d_loss__d_w_h\n",
    "            model.bias_h -= learning_rate * d_loss__d_b_h\n",
    "            model.weight_out -= learning_rate * d_loss__d_w_out\n",
    "            model.bias_out -= learning_rate * d_loss__d_b_out\n",
    "        \n",
    "        # Epoch logging\n",
    "        train_mse, train_accuracy = compute_mse_and_accuracy(model, X_train, y_train)\n",
    "        valid_mse, valid_accuracy = compute_mse_and_accuracy(model, X_validation, y_validation)\n",
    "        \n",
    "        train_accuracy, valid_accuracy = train_accuracy*100, valid_accuracy*100\n",
    "        epoch_training_accuracy.append(train_accuracy)\n",
    "        epoch_validation_accuracy.append(valid_accuracy)\n",
    "        epoch_loss.append(train_mse)\n",
    "        \n",
    "        print(f'Epoch: {epoch+1:03d}/{num_epochs:03d}'\n",
    "              f'| Train MSE: {train_mse:.2f}'\n",
    "              f'| Train Accuracy: {train_accuracy:.2f}'\n",
    "              f'| Valid Accuracy: {valid_accuracy:.2f}')\n",
    "        \n",
    "    return epoch_loss, epoch_training_accuracy, epoch_validation_accuracy"
   ],
   "id": "97cab1a31cfe5da9",
   "outputs": [],
   "execution_count": 8
  },
  {
   "metadata": {},
   "cell_type": "markdown",
   "source": "### Executing the training",
   "id": "24ff6ca74a95b92f"
  },
  {
   "metadata": {
    "ExecuteTime": {
     "end_time": "2024-10-14T14:27:28.614112Z",
     "start_time": "2024-10-14T14:27:13.307258Z"
    }
   },
   "cell_type": "code",
   "source": [
    "np.random.seed(123)\n",
    "model = NeuralNetMLP(num_features=784, num_hidden=50, num_classes=10)\n",
    "epoch_loss, epoch_training_accuracy, epoch_validation_accuracy = train(model, X_train, y_train, X_validation, y_validation, num_epochs=50, learning_rate=0.1)\n"
   ],
   "id": "2f5c6016ec32e435",
   "outputs": [
    {
     "name": "stdout",
     "output_type": "stream",
     "text": [
      "(50, 784)\n",
      "Epoch: 001/050| Train MSE: 0.05| Train Accuracy: 75.82| Valid Accuracy: 75.80\n",
      "Epoch: 002/050| Train MSE: 0.03| Train Accuracy: 86.14| Valid Accuracy: 85.64\n",
      "Epoch: 003/050| Train MSE: 0.02| Train Accuracy: 88.36| Valid Accuracy: 88.36\n",
      "Epoch: 004/050| Train MSE: 0.02| Train Accuracy: 89.56| Valid Accuracy: 89.58\n",
      "Epoch: 005/050| Train MSE: 0.02| Train Accuracy: 90.30| Valid Accuracy: 90.38\n",
      "Epoch: 006/050| Train MSE: 0.02| Train Accuracy: 90.72| Valid Accuracy: 91.00\n",
      "Epoch: 007/050| Train MSE: 0.02| Train Accuracy: 91.20| Valid Accuracy: 91.18\n",
      "Epoch: 008/050| Train MSE: 0.02| Train Accuracy: 91.56| Valid Accuracy: 91.34\n",
      "Epoch: 009/050| Train MSE: 0.01| Train Accuracy: 91.89| Valid Accuracy: 91.66\n",
      "Epoch: 010/050| Train MSE: 0.01| Train Accuracy: 92.09| Valid Accuracy: 91.92\n",
      "Epoch: 011/050| Train MSE: 0.01| Train Accuracy: 92.38| Valid Accuracy: 92.18\n",
      "Epoch: 012/050| Train MSE: 0.01| Train Accuracy: 92.55| Valid Accuracy: 92.24\n",
      "Epoch: 013/050| Train MSE: 0.01| Train Accuracy: 92.69| Valid Accuracy: 92.42\n",
      "Epoch: 014/050| Train MSE: 0.01| Train Accuracy: 92.89| Valid Accuracy: 92.62\n",
      "Epoch: 015/050| Train MSE: 0.01| Train Accuracy: 93.05| Valid Accuracy: 92.82\n",
      "Epoch: 016/050| Train MSE: 0.01| Train Accuracy: 93.24| Valid Accuracy: 92.76\n",
      "Epoch: 017/050| Train MSE: 0.01| Train Accuracy: 93.42| Valid Accuracy: 93.02\n",
      "Epoch: 018/050| Train MSE: 0.01| Train Accuracy: 93.47| Valid Accuracy: 93.06\n",
      "Epoch: 019/050| Train MSE: 0.01| Train Accuracy: 93.63| Valid Accuracy: 93.04\n",
      "Epoch: 020/050| Train MSE: 0.01| Train Accuracy: 93.81| Valid Accuracy: 93.44\n",
      "Epoch: 021/050| Train MSE: 0.01| Train Accuracy: 93.89| Valid Accuracy: 93.54\n",
      "Epoch: 022/050| Train MSE: 0.01| Train Accuracy: 94.02| Valid Accuracy: 93.54\n",
      "Epoch: 023/050| Train MSE: 0.01| Train Accuracy: 94.13| Valid Accuracy: 93.68\n",
      "Epoch: 024/050| Train MSE: 0.01| Train Accuracy: 94.29| Valid Accuracy: 93.72\n",
      "Epoch: 025/050| Train MSE: 0.01| Train Accuracy: 94.27| Valid Accuracy: 93.62\n",
      "Epoch: 026/050| Train MSE: 0.01| Train Accuracy: 94.42| Valid Accuracy: 93.78\n",
      "Epoch: 027/050| Train MSE: 0.01| Train Accuracy: 94.47| Valid Accuracy: 93.82\n",
      "Epoch: 028/050| Train MSE: 0.01| Train Accuracy: 94.59| Valid Accuracy: 93.96\n",
      "Epoch: 029/050| Train MSE: 0.01| Train Accuracy: 94.59| Valid Accuracy: 93.86\n",
      "Epoch: 030/050| Train MSE: 0.01| Train Accuracy: 94.74| Valid Accuracy: 94.02\n",
      "Epoch: 031/050| Train MSE: 0.01| Train Accuracy: 94.80| Valid Accuracy: 94.04\n",
      "Epoch: 032/050| Train MSE: 0.01| Train Accuracy: 94.86| Valid Accuracy: 94.02\n",
      "Epoch: 033/050| Train MSE: 0.01| Train Accuracy: 94.85| Valid Accuracy: 94.10\n",
      "Epoch: 034/050| Train MSE: 0.01| Train Accuracy: 95.02| Valid Accuracy: 94.08\n",
      "Epoch: 035/050| Train MSE: 0.01| Train Accuracy: 95.04| Valid Accuracy: 94.10\n",
      "Epoch: 036/050| Train MSE: 0.01| Train Accuracy: 95.05| Valid Accuracy: 94.14\n",
      "Epoch: 037/050| Train MSE: 0.01| Train Accuracy: 95.09| Valid Accuracy: 94.18\n",
      "Epoch: 038/050| Train MSE: 0.01| Train Accuracy: 95.25| Valid Accuracy: 94.32\n",
      "Epoch: 039/050| Train MSE: 0.01| Train Accuracy: 95.23| Valid Accuracy: 94.32\n",
      "Epoch: 040/050| Train MSE: 0.01| Train Accuracy: 95.27| Valid Accuracy: 94.38\n",
      "Epoch: 041/050| Train MSE: 0.01| Train Accuracy: 95.41| Valid Accuracy: 94.40\n",
      "Epoch: 042/050| Train MSE: 0.01| Train Accuracy: 95.37| Valid Accuracy: 94.44\n",
      "Epoch: 043/050| Train MSE: 0.01| Train Accuracy: 95.45| Valid Accuracy: 94.48\n",
      "Epoch: 044/050| Train MSE: 0.01| Train Accuracy: 95.51| Valid Accuracy: 94.46\n",
      "Epoch: 045/050| Train MSE: 0.01| Train Accuracy: 95.56| Valid Accuracy: 94.62\n",
      "Epoch: 046/050| Train MSE: 0.01| Train Accuracy: 95.55| Valid Accuracy: 94.54\n",
      "Epoch: 047/050| Train MSE: 0.01| Train Accuracy: 95.60| Valid Accuracy: 94.66\n",
      "Epoch: 048/050| Train MSE: 0.01| Train Accuracy: 95.68| Valid Accuracy: 94.62\n",
      "Epoch: 049/050| Train MSE: 0.01| Train Accuracy: 95.72| Valid Accuracy: 94.62\n",
      "Epoch: 050/050| Train MSE: 0.01| Train Accuracy: 95.73| Valid Accuracy: 94.72\n"
     ]
    }
   ],
   "execution_count": 19
  },
  {
   "metadata": {},
   "cell_type": "markdown",
   "source": "### Evaluating the neural network performance   ",
   "id": "df8e2e2f0e0ace07"
  },
  {
   "metadata": {
    "ExecuteTime": {
     "end_time": "2024-10-14T14:27:36.136753Z",
     "start_time": "2024-10-14T14:27:36.081105Z"
    }
   },
   "cell_type": "code",
   "source": [
    "import matplotlib.pyplot as plt\n",
    "\n",
    "plt.plot(epoch_loss)\n",
    "plt.xlabel('Epochs')\n",
    "plt.ylabel('Loss - MSE')\n",
    "plt.show()"
   ],
   "id": "6cf1f1924242acc6",
   "outputs": [
    {
     "data": {
      "text/plain": [
       "<Figure size 640x480 with 1 Axes>"
      ],
      "image/png": "[encoded data removed]"
     },
     "metadata": {},
     "output_type": "display_data"
    }
   ],
   "execution_count": 20
  },
  {
   "metadata": {
    "ExecuteTime": {
     "end_time": "2024-10-14T14:27:40.542049Z",
     "start_time": "2024-10-14T14:27:40.474938Z"
    }
   },
   "cell_type": "code",
   "source": [
    "plt.plot(epoch_training_accuracy)\n",
    "plt.plot(epoch_validation_accuracy)\n",
    "plt.xlabel('Epochs')\n",
    "plt.ylabel('Accuracy')\n",
    "plt.show()"
   ],
   "id": "d192ecdca5fd89dd",
   "outputs": [
    {
     "data": {
      "text/plain": [
       "<Figure size 640x480 with 1 Axes>"
      ],
      "image/png": "[encoded data removed]"
     },
     "metadata": {},
     "output_type": "display_data"
    }
   ],
   "execution_count": 21
  },
  {
   "metadata": {},
   "cell_type": "markdown",
   "source": "### Evaluate generalization performance on the test dataset",
   "id": "d478e1d9790399e9"
  },
  {
   "metadata": {
    "ExecuteTime": {
     "end_time": "2024-10-14T14:28:48.190879Z",
     "start_time": "2024-10-14T14:28:48.156811Z"
    }
   },
   "cell_type": "code",
   "source": [
    "test_mse, test_acc = compute_mse_and_accuracy(model, X_test, y_test)\n",
    "print(f'Test Accuracy: {test_acc*100:.2f}')"
   ],
   "id": "7195b88f6a755640",
   "outputs": [
    {
     "name": "stdout",
     "output_type": "stream",
     "text": [
      "Test Accuracy: 94.70\n"
     ]
    }
   ],
   "execution_count": 22
  }
 ],
 "metadata": {
  "kernelspec": {
   "display_name": "Python 3",
   "language": "python",
   "name": "python3"
  },
  "language_info": {
   "codemirror_mode": {
    "name": "ipython",
    "version": 2
   },
   "file_extension": ".py",
   "mimetype": "text/x-python",
   "name": "python",
   "nbconvert_exporter": "python",
   "pygments_lexer": "ipython2",
   "version": "2.7.6"
  }
 },
 "nbformat": 4,
 "nbformat_minor": 5
}
