{
 "cells": [
  {
   "cell_type": "markdown",
   "id": "37ebda69207f46e7",
   "metadata": {},
   "source": [
    "### Principal Component Analysis (PCA)\n",
    "\n",
    "##### Steps for PCA\n",
    "1. Standardize the d-dimensional dataset\n",
    "2. Construct the covariance matrix\n",
    "3. Decompose the covariance matrix into its eigenvectors and eigenvalues\n",
    "4. Sort the eigenvalues by decreasing order in order to rank the eigenvectors\n",
    "5. Select k eigenvectors, which correspond to the k largest eigenvalues, where k is the dimensionality of the new feature subspace (k<<d)\n",
    "6. Construct a projection matrix W, from the top k eigenvectors\n",
    "7. Transform the d-dimensional dataset, X, using the projection matrix W, to obtain the new k-dimensional feature subspace"
   ]
  },
  {
   "cell_type": "markdown",
   "id": "4ff9d6a37ab3a777",
   "metadata": {},
   "source": [
    "### Extracting the principal components step by step\n",
    "\n",
    "#### Importing dataset"
   ]
  },
  {
   "cell_type": "code",
   "execution_count": 11,
   "id": "cb5cbc289986a669",
   "metadata": {
    "ExecuteTime": {
     "end_time": "2024-10-03T21:01:50.417485Z",
     "start_time": "2024-10-03T21:01:49.682867Z"
    }
   },
   "outputs": [
    {
     "name": "stderr",
     "output_type": "stream",
     "text": [
      "/var/folders/f4/pkjjrshn771_zvw86t7w9rw40000gn/T/ipykernel_61944/140580839.py:3: DtypeWarning: Columns (0,1,4,5,6,7,8,9,10,11,12,13,14,15,16,17,18,19,20,21,22,23,24,25,26,27,28,29,30,31,32,33,34,35,36,37,38,39,40,41,42,43,44,45,46,47,48,49,50,51,52,53,54,55,56,57,58,59,60,61,62,63,64,65,66,67,68,69,70,71,72,73,74,75,76,77,78) have mixed types. Specify dtype option on import or set low_memory=False.\n",
      "  df_wine = pd.read_csv('/Users/micheleverriello/Downloads/archive/Final_Balanced_Autoimmune_Disorder_Dataset.csv', header=None)\n"
     ]
    },
    {
     "data": {
      "text/html": [
       "<div>\n",
       "<style scoped>\n",
       "    .dataframe tbody tr th:only-of-type {\n",
       "        vertical-align: middle;\n",
       "    }\n",
       "\n",
       "    .dataframe tbody tr th {\n",
       "        vertical-align: top;\n",
       "    }\n",
       "\n",
       "    .dataframe thead th {\n",
       "        text-align: right;\n",
       "    }\n",
       "</style>\n",
       "<table border=\"1\" class=\"dataframe\">\n",
       "  <thead>\n",
       "    <tr style=\"text-align: right;\">\n",
       "      <th></th>\n",
       "      <th>0</th>\n",
       "      <th>1</th>\n",
       "      <th>2</th>\n",
       "      <th>3</th>\n",
       "      <th>4</th>\n",
       "      <th>5</th>\n",
       "      <th>6</th>\n",
       "      <th>7</th>\n",
       "      <th>8</th>\n",
       "      <th>9</th>\n",
       "      <th>...</th>\n",
       "      <th>69</th>\n",
       "      <th>70</th>\n",
       "      <th>71</th>\n",
       "      <th>72</th>\n",
       "      <th>73</th>\n",
       "      <th>74</th>\n",
       "      <th>75</th>\n",
       "      <th>76</th>\n",
       "      <th>77</th>\n",
       "      <th>78</th>\n",
       "    </tr>\n",
       "  </thead>\n",
       "  <tbody>\n",
       "    <tr>\n",
       "      <th>0</th>\n",
       "      <td>Patient_ID</td>\n",
       "      <td>Age</td>\n",
       "      <td>Gender</td>\n",
       "      <td>Diagnosis</td>\n",
       "      <td>Sickness_Duration_Months</td>\n",
       "      <td>RBC_Count</td>\n",
       "      <td>Hemoglobin</td>\n",
       "      <td>Hematocrit</td>\n",
       "      <td>MCV</td>\n",
       "      <td>MCH</td>\n",
       "      <td>...</td>\n",
       "      <td>Anti_TIF1</td>\n",
       "      <td>Anti_epidermal_basement_membrane_IgA</td>\n",
       "      <td>Anti_OmpC</td>\n",
       "      <td>pANCA</td>\n",
       "      <td>Anti_tissue_transglutaminase</td>\n",
       "      <td>anti_Scl_70</td>\n",
       "      <td>Anti_Mi2</td>\n",
       "      <td>Anti_parietal_cell</td>\n",
       "      <td>Progesterone_antibodies</td>\n",
       "      <td>Anti_Sm</td>\n",
       "    </tr>\n",
       "    <tr>\n",
       "      <th>1</th>\n",
       "      <td>6</td>\n",
       "      <td>62</td>\n",
       "      <td>Male</td>\n",
       "      <td>Autoimmune orchitis</td>\n",
       "      <td>41</td>\n",
       "      <td>4.75</td>\n",
       "      <td>13.37</td>\n",
       "      <td>43.11</td>\n",
       "      <td>101.91</td>\n",
       "      <td>28.41</td>\n",
       "      <td>...</td>\n",
       "      <td>0</td>\n",
       "      <td>0</td>\n",
       "      <td>0</td>\n",
       "      <td>0</td>\n",
       "      <td>0</td>\n",
       "      <td>0</td>\n",
       "      <td>0</td>\n",
       "      <td>0</td>\n",
       "      <td>0</td>\n",
       "      <td>0</td>\n",
       "    </tr>\n",
       "    <tr>\n",
       "      <th>2</th>\n",
       "      <td>20</td>\n",
       "      <td>54</td>\n",
       "      <td>Female</td>\n",
       "      <td>Autoimmune orchitis</td>\n",
       "      <td>41</td>\n",
       "      <td>4.32</td>\n",
       "      <td>10.76</td>\n",
       "      <td>39.92</td>\n",
       "      <td>95.96</td>\n",
       "      <td>28.22</td>\n",
       "      <td>...</td>\n",
       "      <td>0</td>\n",
       "      <td>0</td>\n",
       "      <td>0</td>\n",
       "      <td>0</td>\n",
       "      <td>0</td>\n",
       "      <td>0</td>\n",
       "      <td>0</td>\n",
       "      <td>0</td>\n",
       "      <td>0</td>\n",
       "      <td>0</td>\n",
       "    </tr>\n",
       "    <tr>\n",
       "      <th>3</th>\n",
       "      <td>46</td>\n",
       "      <td>34</td>\n",
       "      <td>Male</td>\n",
       "      <td>Autoimmune orchitis</td>\n",
       "      <td>86</td>\n",
       "      <td>4.42</td>\n",
       "      <td>11.91</td>\n",
       "      <td>38.38</td>\n",
       "      <td>80.56</td>\n",
       "      <td>28.4</td>\n",
       "      <td>...</td>\n",
       "      <td>0</td>\n",
       "      <td>0</td>\n",
       "      <td>0</td>\n",
       "      <td>0</td>\n",
       "      <td>0</td>\n",
       "      <td>0</td>\n",
       "      <td>0</td>\n",
       "      <td>0</td>\n",
       "      <td>0</td>\n",
       "      <td>0</td>\n",
       "    </tr>\n",
       "    <tr>\n",
       "      <th>4</th>\n",
       "      <td>108</td>\n",
       "      <td>22</td>\n",
       "      <td>Male</td>\n",
       "      <td>Autoimmune orchitis</td>\n",
       "      <td>43</td>\n",
       "      <td>4.33</td>\n",
       "      <td>12.72</td>\n",
       "      <td>39.99</td>\n",
       "      <td>84.71</td>\n",
       "      <td>26.67</td>\n",
       "      <td>...</td>\n",
       "      <td>0</td>\n",
       "      <td>0</td>\n",
       "      <td>0</td>\n",
       "      <td>0</td>\n",
       "      <td>0</td>\n",
       "      <td>0</td>\n",
       "      <td>0</td>\n",
       "      <td>0</td>\n",
       "      <td>0</td>\n",
       "      <td>0</td>\n",
       "    </tr>\n",
       "  </tbody>\n",
       "</table>\n",
       "<p>5 rows × 79 columns</p>\n",
       "</div>"
      ],
      "text/plain": [
       "           0    1       2                    3                         4   \\\n",
       "0  Patient_ID  Age  Gender            Diagnosis  Sickness_Duration_Months   \n",
       "1           6   62    Male  Autoimmune orchitis                        41   \n",
       "2          20   54  Female  Autoimmune orchitis                        41   \n",
       "3          46   34    Male  Autoimmune orchitis                        86   \n",
       "4         108   22    Male  Autoimmune orchitis                        43   \n",
       "\n",
       "          5           6           7       8      9   ...         69  \\\n",
       "0  RBC_Count  Hemoglobin  Hematocrit     MCV    MCH  ...  Anti_TIF1   \n",
       "1       4.75       13.37       43.11  101.91  28.41  ...          0   \n",
       "2       4.32       10.76       39.92   95.96  28.22  ...          0   \n",
       "3       4.42       11.91       38.38   80.56   28.4  ...          0   \n",
       "4       4.33       12.72       39.99   84.71  26.67  ...          0   \n",
       "\n",
       "                                     70         71     72  \\\n",
       "0  Anti_epidermal_basement_membrane_IgA  Anti_OmpC  pANCA   \n",
       "1                                     0          0      0   \n",
       "2                                     0          0      0   \n",
       "3                                     0          0      0   \n",
       "4                                     0          0      0   \n",
       "\n",
       "                             73           74        75                  76  \\\n",
       "0  Anti_tissue_transglutaminase  anti_Scl_70  Anti_Mi2  Anti_parietal_cell   \n",
       "1                             0            0         0                   0   \n",
       "2                             0            0         0                   0   \n",
       "3                             0            0         0                   0   \n",
       "4                             0            0         0                   0   \n",
       "\n",
       "                        77       78  \n",
       "0  Progesterone_antibodies  Anti_Sm  \n",
       "1                        0        0  \n",
       "2                        0        0  \n",
       "3                        0        0  \n",
       "4                        0        0  \n",
       "\n",
       "[5 rows x 79 columns]"
      ]
     },
     "execution_count": 11,
     "metadata": {},
     "output_type": "execute_result"
    }
   ],
   "source": [
    "import pandas as pd\n",
    "\n",
    "df_wine = pd.read_csv('/Users/micheleverriello/Downloads/archive/Final_Balanced_Autoimmune_Disorder_Dataset.csv', header=None)\n",
    "\n",
    "df_wine.head()"
   ]
  },
  {
   "cell_type": "markdown",
   "id": "d55d7cfa734c88ad",
   "metadata": {},
   "source": [
    "#### Separate data into training and test dataset using 70/30 formula and standardize them to unit variance"
   ]
  },
  {
   "cell_type": "code",
   "execution_count": 12,
   "id": "6c8d4346bedbff29",
   "metadata": {
    "ExecuteTime": {
     "end_time": "2024-10-03T21:01:57.232875Z",
     "start_time": "2024-10-03T21:01:57.225826Z"
    }
   },
   "outputs": [
    {
     "ename": "TypeError",
     "evalue": "'<' not supported between instances of 'int' and 'str'",
     "output_type": "error",
     "traceback": [
      "\u001b[31m---------------------------------------------------------------------------\u001b[39m",
      "\u001b[31mTypeError\u001b[39m                                 Traceback (most recent call last)",
      "\u001b[36mCell\u001b[39m\u001b[36m \u001b[39m\u001b[32mIn[12]\u001b[39m\u001b[32m, line 4\u001b[39m\n\u001b[32m      1\u001b[39m \u001b[38;5;28;01mfrom\u001b[39;00m\u001b[38;5;250m \u001b[39m\u001b[34;01msklearn\u001b[39;00m\u001b[34;01m.\u001b[39;00m\u001b[34;01mmodel_selection\u001b[39;00m\u001b[38;5;250m \u001b[39m\u001b[38;5;28;01mimport\u001b[39;00m train_test_split\n\u001b[32m      3\u001b[39m X, y =  df_wine.iloc[:, \u001b[32m1\u001b[39m:].values, df_wine.iloc[:, \u001b[32m0\u001b[39m].values\n\u001b[32m----> \u001b[39m\u001b[32m4\u001b[39m X_train, X_test, y_train, y_test = \u001b[43mtrain_test_split\u001b[49m\u001b[43m(\u001b[49m\u001b[43mX\u001b[49m\u001b[43m,\u001b[49m\u001b[43m \u001b[49m\u001b[43my\u001b[49m\u001b[43m,\u001b[49m\u001b[43m \u001b[49m\u001b[43mtest_size\u001b[49m\u001b[43m=\u001b[49m\u001b[32;43m0.3\u001b[39;49m\u001b[43m,\u001b[49m\u001b[43m \u001b[49m\u001b[43mrandom_state\u001b[49m\u001b[43m=\u001b[49m\u001b[32;43m0\u001b[39;49m\u001b[43m,\u001b[49m\u001b[43m \u001b[49m\u001b[43mstratify\u001b[49m\u001b[43m=\u001b[49m\u001b[43my\u001b[49m\u001b[43m)\u001b[49m\n\u001b[32m      6\u001b[39m \u001b[38;5;66;03m# Standardize the features\u001b[39;00m\n\u001b[32m      7\u001b[39m \u001b[38;5;28;01mfrom\u001b[39;00m\u001b[38;5;250m \u001b[39m\u001b[34;01msklearn\u001b[39;00m\u001b[34;01m.\u001b[39;00m\u001b[34;01mpreprocessing\u001b[39;00m\u001b[38;5;250m \u001b[39m\u001b[38;5;28;01mimport\u001b[39;00m StandardScaler\n",
      "\u001b[36mFile \u001b[39m\u001b[32m~/machine-learning-introduction/myenv/lib/python3.13/site-packages/sklearn/utils/_param_validation.py:218\u001b[39m, in \u001b[36mvalidate_params.<locals>.decorator.<locals>.wrapper\u001b[39m\u001b[34m(*args, **kwargs)\u001b[39m\n\u001b[32m    212\u001b[39m \u001b[38;5;28;01mtry\u001b[39;00m:\n\u001b[32m    213\u001b[39m     \u001b[38;5;28;01mwith\u001b[39;00m config_context(\n\u001b[32m    214\u001b[39m         skip_parameter_validation=(\n\u001b[32m    215\u001b[39m             prefer_skip_nested_validation \u001b[38;5;129;01mor\u001b[39;00m global_skip_validation\n\u001b[32m    216\u001b[39m         )\n\u001b[32m    217\u001b[39m     ):\n\u001b[32m--> \u001b[39m\u001b[32m218\u001b[39m         \u001b[38;5;28;01mreturn\u001b[39;00m \u001b[43mfunc\u001b[49m\u001b[43m(\u001b[49m\u001b[43m*\u001b[49m\u001b[43margs\u001b[49m\u001b[43m,\u001b[49m\u001b[43m \u001b[49m\u001b[43m*\u001b[49m\u001b[43m*\u001b[49m\u001b[43mkwargs\u001b[49m\u001b[43m)\u001b[49m\n\u001b[32m    219\u001b[39m \u001b[38;5;28;01mexcept\u001b[39;00m InvalidParameterError \u001b[38;5;28;01mas\u001b[39;00m e:\n\u001b[32m    220\u001b[39m     \u001b[38;5;66;03m# When the function is just a wrapper around an estimator, we allow\u001b[39;00m\n\u001b[32m    221\u001b[39m     \u001b[38;5;66;03m# the function to delegate validation to the estimator, but we replace\u001b[39;00m\n\u001b[32m    222\u001b[39m     \u001b[38;5;66;03m# the name of the estimator by the name of the function in the error\u001b[39;00m\n\u001b[32m    223\u001b[39m     \u001b[38;5;66;03m# message to avoid confusion.\u001b[39;00m\n\u001b[32m    224\u001b[39m     msg = re.sub(\n\u001b[32m    225\u001b[39m         \u001b[33mr\u001b[39m\u001b[33m\"\u001b[39m\u001b[33mparameter of \u001b[39m\u001b[33m\\\u001b[39m\u001b[33mw+ must be\u001b[39m\u001b[33m\"\u001b[39m,\n\u001b[32m    226\u001b[39m         \u001b[33mf\u001b[39m\u001b[33m\"\u001b[39m\u001b[33mparameter of \u001b[39m\u001b[38;5;132;01m{\u001b[39;00mfunc.\u001b[34m__qualname__\u001b[39m\u001b[38;5;132;01m}\u001b[39;00m\u001b[33m must be\u001b[39m\u001b[33m\"\u001b[39m,\n\u001b[32m    227\u001b[39m         \u001b[38;5;28mstr\u001b[39m(e),\n\u001b[32m    228\u001b[39m     )\n",
      "\u001b[36mFile \u001b[39m\u001b[32m~/machine-learning-introduction/myenv/lib/python3.13/site-packages/sklearn/model_selection/_split.py:2940\u001b[39m, in \u001b[36mtrain_test_split\u001b[39m\u001b[34m(test_size, train_size, random_state, shuffle, stratify, *arrays)\u001b[39m\n\u001b[32m   2936\u001b[39m         CVClass = ShuffleSplit\n\u001b[32m   2938\u001b[39m     cv = CVClass(test_size=n_test, train_size=n_train, random_state=random_state)\n\u001b[32m-> \u001b[39m\u001b[32m2940\u001b[39m     train, test = \u001b[38;5;28;43mnext\u001b[39;49m\u001b[43m(\u001b[49m\u001b[43mcv\u001b[49m\u001b[43m.\u001b[49m\u001b[43msplit\u001b[49m\u001b[43m(\u001b[49m\u001b[43mX\u001b[49m\u001b[43m=\u001b[49m\u001b[43marrays\u001b[49m\u001b[43m[\u001b[49m\u001b[32;43m0\u001b[39;49m\u001b[43m]\u001b[49m\u001b[43m,\u001b[49m\u001b[43m \u001b[49m\u001b[43my\u001b[49m\u001b[43m=\u001b[49m\u001b[43mstratify\u001b[49m\u001b[43m)\u001b[49m\u001b[43m)\u001b[49m\n\u001b[32m   2942\u001b[39m train, test = ensure_common_namespace_device(arrays[\u001b[32m0\u001b[39m], train, test)\n\u001b[32m   2944\u001b[39m \u001b[38;5;28;01mreturn\u001b[39;00m \u001b[38;5;28mlist\u001b[39m(\n\u001b[32m   2945\u001b[39m     chain.from_iterable(\n\u001b[32m   2946\u001b[39m         (_safe_indexing(a, train), _safe_indexing(a, test)) \u001b[38;5;28;01mfor\u001b[39;00m a \u001b[38;5;129;01min\u001b[39;00m arrays\n\u001b[32m   2947\u001b[39m     )\n\u001b[32m   2948\u001b[39m )\n",
      "\u001b[36mFile \u001b[39m\u001b[32m~/machine-learning-introduction/myenv/lib/python3.13/site-packages/sklearn/model_selection/_split.py:1927\u001b[39m, in \u001b[36mBaseShuffleSplit.split\u001b[39m\u001b[34m(self, X, y, groups)\u001b[39m\n\u001b[32m   1897\u001b[39m \u001b[38;5;250m\u001b[39m\u001b[33;03m\"\"\"Generate indices to split data into training and test set.\u001b[39;00m\n\u001b[32m   1898\u001b[39m \n\u001b[32m   1899\u001b[39m \u001b[33;03mParameters\u001b[39;00m\n\u001b[32m   (...)\u001b[39m\u001b[32m   1924\u001b[39m \u001b[33;03mto an integer.\u001b[39;00m\n\u001b[32m   1925\u001b[39m \u001b[33;03m\"\"\"\u001b[39;00m\n\u001b[32m   1926\u001b[39m X, y, groups = indexable(X, y, groups)\n\u001b[32m-> \u001b[39m\u001b[32m1927\u001b[39m \u001b[43m\u001b[49m\u001b[38;5;28;43;01mfor\u001b[39;49;00m\u001b[43m \u001b[49m\u001b[43mtrain\u001b[49m\u001b[43m,\u001b[49m\u001b[43m \u001b[49m\u001b[43mtest\u001b[49m\u001b[43m \u001b[49m\u001b[38;5;129;43;01min\u001b[39;49;00m\u001b[43m \u001b[49m\u001b[38;5;28;43mself\u001b[39;49m\u001b[43m.\u001b[49m\u001b[43m_iter_indices\u001b[49m\u001b[43m(\u001b[49m\u001b[43mX\u001b[49m\u001b[43m,\u001b[49m\u001b[43m \u001b[49m\u001b[43my\u001b[49m\u001b[43m,\u001b[49m\u001b[43m \u001b[49m\u001b[43mgroups\u001b[49m\u001b[43m)\u001b[49m\u001b[43m:\u001b[49m\n\u001b[32m   1928\u001b[39m \u001b[43m    \u001b[49m\u001b[38;5;28;43;01myield\u001b[39;49;00m\u001b[43m \u001b[49m\u001b[43mtrain\u001b[49m\u001b[43m,\u001b[49m\u001b[43m \u001b[49m\u001b[43mtest\u001b[49m\n",
      "\u001b[36mFile \u001b[39m\u001b[32m~/machine-learning-introduction/myenv/lib/python3.13/site-packages/sklearn/model_selection/_split.py:2337\u001b[39m, in \u001b[36mStratifiedShuffleSplit._iter_indices\u001b[39m\u001b[34m(self, X, y, groups)\u001b[39m\n\u001b[32m   2332\u001b[39m \u001b[38;5;28;01mif\u001b[39;00m y.ndim == \u001b[32m2\u001b[39m:\n\u001b[32m   2333\u001b[39m     \u001b[38;5;66;03m# for multi-label y, map each distinct row to a string repr\u001b[39;00m\n\u001b[32m   2334\u001b[39m     \u001b[38;5;66;03m# using join because str(row) uses an ellipsis if len(row) > 1000\u001b[39;00m\n\u001b[32m   2335\u001b[39m     y = np.array([\u001b[33m\"\u001b[39m\u001b[33m \u001b[39m\u001b[33m\"\u001b[39m.join(row.astype(\u001b[33m\"\u001b[39m\u001b[33mstr\u001b[39m\u001b[33m\"\u001b[39m)) \u001b[38;5;28;01mfor\u001b[39;00m row \u001b[38;5;129;01min\u001b[39;00m y])\n\u001b[32m-> \u001b[39m\u001b[32m2337\u001b[39m classes, y_indices = \u001b[43mnp\u001b[49m\u001b[43m.\u001b[49m\u001b[43munique\u001b[49m\u001b[43m(\u001b[49m\u001b[43my\u001b[49m\u001b[43m,\u001b[49m\u001b[43m \u001b[49m\u001b[43mreturn_inverse\u001b[49m\u001b[43m=\u001b[49m\u001b[38;5;28;43;01mTrue\u001b[39;49;00m\u001b[43m)\u001b[49m\n\u001b[32m   2338\u001b[39m n_classes = classes.shape[\u001b[32m0\u001b[39m]\n\u001b[32m   2340\u001b[39m class_counts = np.bincount(y_indices)\n",
      "\u001b[36mFile \u001b[39m\u001b[32m~/machine-learning-introduction/myenv/lib/python3.13/site-packages/numpy/lib/_arraysetops_impl.py:294\u001b[39m, in \u001b[36munique\u001b[39m\u001b[34m(ar, return_index, return_inverse, return_counts, axis, equal_nan, sorted)\u001b[39m\n\u001b[32m    292\u001b[39m ar = np.asanyarray(ar)\n\u001b[32m    293\u001b[39m \u001b[38;5;28;01mif\u001b[39;00m axis \u001b[38;5;129;01mis\u001b[39;00m \u001b[38;5;28;01mNone\u001b[39;00m:\n\u001b[32m--> \u001b[39m\u001b[32m294\u001b[39m     ret = \u001b[43m_unique1d\u001b[49m\u001b[43m(\u001b[49m\u001b[43mar\u001b[49m\u001b[43m,\u001b[49m\u001b[43m \u001b[49m\u001b[43mreturn_index\u001b[49m\u001b[43m,\u001b[49m\u001b[43m \u001b[49m\u001b[43mreturn_inverse\u001b[49m\u001b[43m,\u001b[49m\u001b[43m \u001b[49m\u001b[43mreturn_counts\u001b[49m\u001b[43m,\u001b[49m\n\u001b[32m    295\u001b[39m \u001b[43m                    \u001b[49m\u001b[43mequal_nan\u001b[49m\u001b[43m=\u001b[49m\u001b[43mequal_nan\u001b[49m\u001b[43m,\u001b[49m\u001b[43m \u001b[49m\u001b[43minverse_shape\u001b[49m\u001b[43m=\u001b[49m\u001b[43mar\u001b[49m\u001b[43m.\u001b[49m\u001b[43mshape\u001b[49m\u001b[43m,\u001b[49m\u001b[43m \u001b[49m\u001b[43maxis\u001b[49m\u001b[43m=\u001b[49m\u001b[38;5;28;43;01mNone\u001b[39;49;00m\u001b[43m,\u001b[49m\n\u001b[32m    296\u001b[39m \u001b[43m                    \u001b[49m\u001b[38;5;28;43msorted\u001b[39;49m\u001b[43m=\u001b[49m\u001b[38;5;28;43msorted\u001b[39;49m\u001b[43m)\u001b[49m\n\u001b[32m    297\u001b[39m     \u001b[38;5;28;01mreturn\u001b[39;00m _unpack_tuple(ret)\n\u001b[32m    299\u001b[39m \u001b[38;5;66;03m# axis was specified and not None\u001b[39;00m\n",
      "\u001b[36mFile \u001b[39m\u001b[32m~/machine-learning-introduction/myenv/lib/python3.13/site-packages/numpy/lib/_arraysetops_impl.py:379\u001b[39m, in \u001b[36m_unique1d\u001b[39m\u001b[34m(ar, return_index, return_inverse, return_counts, equal_nan, inverse_shape, axis, sorted)\u001b[39m\n\u001b[32m    377\u001b[39m \u001b[38;5;66;03m# If we don't use the hash map, we use the slower sorting method.\u001b[39;00m\n\u001b[32m    378\u001b[39m \u001b[38;5;28;01mif\u001b[39;00m optional_indices:\n\u001b[32m--> \u001b[39m\u001b[32m379\u001b[39m     perm = \u001b[43mar\u001b[49m\u001b[43m.\u001b[49m\u001b[43margsort\u001b[49m\u001b[43m(\u001b[49m\u001b[43mkind\u001b[49m\u001b[43m=\u001b[49m\u001b[33;43m'\u001b[39;49m\u001b[33;43mmergesort\u001b[39;49m\u001b[33;43m'\u001b[39;49m\u001b[43m \u001b[49m\u001b[38;5;28;43;01mif\u001b[39;49;00m\u001b[43m \u001b[49m\u001b[43mreturn_index\u001b[49m\u001b[43m \u001b[49m\u001b[38;5;28;43;01melse\u001b[39;49;00m\u001b[43m \u001b[49m\u001b[33;43m'\u001b[39;49m\u001b[33;43mquicksort\u001b[39;49m\u001b[33;43m'\u001b[39;49m\u001b[43m)\u001b[49m\n\u001b[32m    380\u001b[39m     aux = ar[perm]\n\u001b[32m    381\u001b[39m \u001b[38;5;28;01melse\u001b[39;00m:\n",
      "\u001b[31mTypeError\u001b[39m: '<' not supported between instances of 'int' and 'str'"
     ]
    }
   ],
   "source": [
    "from sklearn.model_selection import train_test_split\n",
    "\n",
    "X, y =  df_wine.iloc[:, 1:].values, df_wine.iloc[:, 0].values\n",
    "X_train, X_test, y_train, y_test = train_test_split(X, y, test_size=0.3, random_state=0, stratify=y)\n",
    "\n",
    "# Standardize the features\n",
    "from sklearn.preprocessing import StandardScaler\n",
    "sc = StandardScaler()\n",
    "X_train_std = sc.fit_transform(X_train)\n",
    "X_test_std = sc.transform(X_test)\n"
   ]
  },
  {
   "cell_type": "markdown",
   "id": "73925e7aea2c1e6a",
   "metadata": {},
   "source": [
    "#### Calculate covariance matrix and decompose into eigenvalues and eigenvectors"
   ]
  },
  {
   "cell_type": "code",
   "execution_count": null,
   "id": "afb8d63d8293e589",
   "metadata": {
    "ExecuteTime": {
     "end_time": "2024-10-03T21:04:29.542252Z",
     "start_time": "2024-10-03T21:04:29.536970Z"
    }
   },
   "outputs": [
    {
     "name": "stdout",
     "output_type": "stream",
     "text": [
      "Eigenvalues:  [4.84274532 2.41602459 1.54845825 0.96120438 0.84166161 0.6620634\n",
      " 0.51828472 0.34650377 0.3131368  0.10754642 0.21357215 0.15362835\n",
      " 0.1808613 ]\n"
     ]
    }
   ],
   "source": [
    "import numpy as np\n",
    "\n",
    "covariance_matrix = np.cov(X_train_std.T)\n",
    "\n",
    "eigenvalues, eigenvectors = np.linalg.eig(covariance_matrix)\n",
    "\n",
    "\n",
    "print('Eigenvalues: ', eigenvalues)"
   ]
  },
  {
   "cell_type": "markdown",
   "id": "25a5fef5ce459fe0",
   "metadata": {},
   "source": [
    "#### Sort the eigenvalues in decreasing order rank the eigenvectors"
   ]
  },
  {
   "cell_type": "code",
   "execution_count": null,
   "id": "8878292eec6b7fe9",
   "metadata": {
    "ExecuteTime": {
     "end_time": "2024-10-03T21:08:45.403712Z",
     "start_time": "2024-10-03T21:08:44.748355Z"
    }
   },
   "outputs": [
    {
     "data": {
      "image/png": "[encoded data removed]",
      "text/plain": [
       "<Figure size 640x480 with 1 Axes>"
      ]
     },
     "metadata": {},
     "output_type": "display_data"
    }
   ],
   "source": [
    "total = sum(eigenvalues)\n",
    "variance_explained = [(i / total) for i in sorted(eigenvalues, reverse=True)]\n",
    "cumulative_sum_var_exp = np.cumsum(variance_explained)\n",
    "\n",
    "import matplotlib.pyplot as plt\n",
    "plt.bar(range(1,14), variance_explained, align='center', label='Individual explained variance')\n",
    "plt.step(range(1,14), cumulative_sum_var_exp, where='mid', label='Cumulative explained variance')\n",
    "plt.ylabel('Explained variance ratio')\n",
    "plt.xlabel('Principal component index')\n",
    "plt.legend(loc='best')\n",
    "plt.tight_layout()\n",
    "plt.show()"
   ]
  },
  {
   "cell_type": "markdown",
   "id": "278f37c94b8feda4",
   "metadata": {},
   "source": [
    "### Feature transformation\n",
    "Now that we have successfully decomposed the covariance matrix into eigenpairs, let’s proceed with the last three steps to transform the Wine dataset onto the new principal component axes. The remaining steps we are going to tackle in this section are the following:\n",
    "\n",
    "1. Select k eigenvectors, which correspond to the k largest eigenvalues, where k is the dimensionality of the new feature subspace.\n",
    "2. Construct a projection matrix, W, from the “top” k eigenvectors.\n",
    "3. Transform the d-dimensional input dataset, X, using the projection matrix, W, to obtain the new k-dimensional feature subspace."
   ]
  },
  {
   "cell_type": "code",
   "execution_count": null,
   "id": "dae4da7c24348d80",
   "metadata": {
    "ExecuteTime": {
     "end_time": "2024-10-03T21:15:58.331640Z",
     "start_time": "2024-10-03T21:15:58.328344Z"
    }
   },
   "outputs": [],
   "source": [
    "# Make a list of (eigenvalue, eigenvector) tuples\n",
    "eigen_pairs = [(np.abs(eigenvalues[i]), eigenvectors[:, i]) for i in range(len(eigenvalues))]\n",
    "# Sort the (eigenvalue, eigenvector) tuples from high to low\n",
    "eigen_pairs.sort(key=lambda k: k[0], reverse=True)"
   ]
  },
  {
   "cell_type": "code",
   "execution_count": null,
   "id": "4c9140b68437224d",
   "metadata": {
    "ExecuteTime": {
     "end_time": "2024-10-03T21:15:59.776319Z",
     "start_time": "2024-10-03T21:15:59.772325Z"
    }
   },
   "outputs": [
    {
     "name": "stdout",
     "output_type": "stream",
     "text": [
      "[[-0.13724218  0.50303478]\n",
      " [ 0.24724326  0.16487119]\n",
      " [-0.02545159  0.24456476]\n",
      " [ 0.20694508 -0.11352904]\n",
      " [-0.15436582  0.28974518]\n",
      " [-0.39376952  0.05080104]\n",
      " [-0.41735106 -0.02287338]\n",
      " [ 0.30572896  0.09048885]\n",
      " [-0.30668347  0.00835233]\n",
      " [ 0.07554066  0.54977581]\n",
      " [-0.32613263 -0.20716433]\n",
      " [-0.36861022 -0.24902536]\n",
      " [-0.29669651  0.38022942]]\n"
     ]
    }
   ],
   "source": [
    "# Choosing the first 2 eigenvalues so we cover the 60% of the variance in the dataset\n",
    "w = np.hstack((eigen_pairs[0][1][:, np.newaxis], eigen_pairs[1][1][:, np.newaxis]))\n",
    "\n",
    "print(w)"
   ]
  },
  {
   "cell_type": "markdown",
   "id": "7e1bc4007806dec7",
   "metadata": {},
   "source": [
    "By executing the preceding code, we have created a 13×2-dimensional projection matrix, W, from the\n",
    "top two eigenvectors.\n",
    "\n",
    "Using the projection matrix, we can now transform an example, x (represented as a 13-dimensional\n",
    "row vector), onto the PCA subspace (the principal components one and two) obtaining x′, now a\n",
    "two-dimensional example vector consisting of two new features:"
   ]
  },
  {
   "cell_type": "code",
   "execution_count": null,
   "id": "177675257da621e5",
   "metadata": {
    "ExecuteTime": {
     "end_time": "2024-10-03T21:17:23.363616Z",
     "start_time": "2024-10-03T21:17:23.359234Z"
    }
   },
   "outputs": [
    {
     "name": "stdout",
     "output_type": "stream",
     "text": [
      "[[ 2.38299011  0.45458499]\n",
      " [-1.96578183  1.65376939]\n",
      " [-2.53907598  1.02909066]\n",
      " [-1.43010776  0.6024011 ]\n",
      " [ 3.14147227  0.66214979]\n",
      " [ 0.50253552 -2.08907131]\n",
      " [ 0.04867722 -2.27536044]\n",
      " [ 2.47888989 -0.08603318]\n",
      " [ 2.01900259 -1.3538719 ]\n",
      " [ 0.75156583 -2.55367947]\n",
      " [ 0.72268915 -1.18404391]\n",
      " [-3.00366211  0.94626934]\n",
      " [ 2.57518878 -1.0697549 ]\n",
      " [ 3.73151104  1.01968876]\n",
      " [-1.12276518  0.13877   ]\n",
      " [ 2.85996853  2.28819559]\n",
      " [-0.74717125 -3.21746061]\n",
      " [-1.58427878  0.16048055]\n",
      " [ 3.38887101  2.11550689]\n",
      " [ 3.15405473  0.54233966]\n",
      " [-1.28036506 -1.72926871]\n",
      " [-1.71438911  0.71745249]\n",
      " [-1.55040291 -1.7580591 ]\n",
      " [ 1.10984489 -1.20480693]\n",
      " [-0.69108418 -1.71385374]\n",
      " [-2.086036   -1.68453671]\n",
      " [ 2.90393456  1.95258805]\n",
      " [-2.07635784  1.47183304]\n",
      " [-1.74756185 -1.25842546]\n",
      " [ 2.59424456 -0.1056037 ]\n",
      " [-2.50372355  0.70412212]\n",
      " [-2.19448402  2.18657552]\n",
      " [ 3.91634534  0.16136475]\n",
      " [-1.11739618  0.51921086]\n",
      " [-0.89996804 -2.04759575]\n",
      " [-1.71469178  0.61392169]\n",
      " [-2.48581303  0.76839561]\n",
      " [-0.76080562 -1.67615627]\n",
      " [ 2.9265371   0.18854741]\n",
      " [ 2.94423716  1.34812388]\n",
      " [-2.38993219  1.0848074 ]\n",
      " [ 2.63885049  0.75274937]\n",
      " [ 2.51009031  2.25237953]\n",
      " [ 3.65248086  1.74839925]\n",
      " [-2.65169609  1.01997476]\n",
      " [ 0.52544559 -2.13528249]\n",
      " [ 2.70197573  0.56476307]\n",
      " [ 3.18414708  2.58094695]\n",
      " [ 1.12517041 -1.85054449]\n",
      " [ 2.92366519  0.41699915]\n",
      " [-1.96122314 -1.28613661]\n",
      " [ 0.54473673 -1.07897226]\n",
      " [-0.77030308 -1.93386815]\n",
      " [-1.16670455  0.00489815]\n",
      " [-1.36475309 -2.13572269]\n",
      " [ 0.43563732 -2.56929607]\n",
      " [ 2.96191745  1.91091009]\n",
      " [ 2.83609557  0.65386032]\n",
      " [ 1.90402089 -0.35296542]\n",
      " [-2.4858391  -0.21308835]\n",
      " [-2.16575568  1.1468486 ]\n",
      " [ 0.00669776 -0.94337624]\n",
      " [ 1.06560181  3.31221025]\n",
      " [ 2.13117911  1.90551304]\n",
      " [ 1.53543483 -1.50854979]\n",
      " [-2.66783112  1.75933599]\n",
      " [ 0.57279998 -2.7511383 ]\n",
      " [-0.70710916 -2.43798549]\n",
      " [-0.99606577 -1.4772411 ]\n",
      " [-2.67324153  1.35779609]\n",
      " [-2.36367378  1.66537927]\n",
      " [-0.39171875  0.13747499]\n",
      " [-2.98908845  2.16983165]\n",
      " [-1.91822539  1.60141809]\n",
      " [ 2.3114458   0.207123  ]\n",
      " [-1.06050503  0.6004608 ]\n",
      " [-2.74858609 -0.29016054]\n",
      " [ 2.26650077  2.14491758]\n",
      " [-1.15517469 -0.50262909]\n",
      " [ 0.16602503 -2.26850051]\n",
      " [ 1.35589389  0.33353007]\n",
      " [-3.31185057  1.39240115]\n",
      " [-0.33245686 -2.15639865]\n",
      " [-2.23205085  0.52868143]\n",
      " [ 0.18583758 -1.44446967]\n",
      " [ 0.84560856  0.17151684]\n",
      " [ 2.69500472  2.74522492]\n",
      " [ 0.44645674 -0.62393943]\n",
      " [-1.88961007 -0.04400723]\n",
      " [-3.08131761  1.59724429]\n",
      " [-3.45716348  1.21428442]\n",
      " [ 3.87665629  0.46446004]\n",
      " [ 1.575516   -1.82299839]\n",
      " [-3.43344371  1.6116814 ]\n",
      " [-4.20642597  2.20145366]\n",
      " [-0.14042971 -2.36871639]\n",
      " [ 1.82731521 -1.39485103]\n",
      " [ 2.20564744  1.28462066]\n",
      " [ 1.64999054  2.33211134]\n",
      " [-1.4611033  -0.46480324]\n",
      " [-0.60047516  0.00920072]\n",
      " [-3.08276231  0.28287148]\n",
      " [ 0.45035749 -2.20263755]\n",
      " [ 0.90806897 -2.0881686 ]\n",
      " [ 3.24973637 -0.18273485]\n",
      " [-3.07882055  0.69622621]\n",
      " [ 2.54277306  1.88571652]\n",
      " [-2.84838157  0.63274325]\n",
      " [-0.88997271 -0.67927226]\n",
      " [ 0.32368249 -2.07006175]\n",
      " [ 0.32007527 -2.88708519]\n",
      " [ 0.44889188 -2.14872532]\n",
      " [-2.46582558  1.0745577 ]\n",
      " [ 2.81678113  0.56344444]\n",
      " [-2.16983025  0.16644199]\n",
      " [-2.66728229  1.38137702]\n",
      " [-3.53223924  2.57906029]\n",
      " [-1.96637688  1.18319185]\n",
      " [ 1.68741216 -1.35075321]\n",
      " [ 0.43521077 -2.40355817]\n",
      " [ 2.59045115  1.63852921]\n",
      " [ 4.35308397  0.66536041]\n",
      " [-1.84315373 -1.50688415]\n",
      " [-0.40860955 -1.29720607]]\n"
     ]
    }
   ],
   "source": [
    "X_train_pca = X_train_std.dot(w)\n",
    "print(X_train_pca)"
   ]
  },
  {
   "cell_type": "markdown",
   "id": "53ee720c5fcc8a5b",
   "metadata": {},
   "source": []
  },
  {
   "cell_type": "markdown",
   "id": "494621ab6b192b4d",
   "metadata": {},
   "source": []
  }
 ],
 "metadata": {
  "kernelspec": {
   "display_name": "myenv",
   "language": "python",
   "name": "python3"
  },
  "language_info": {
   "codemirror_mode": {
    "name": "ipython",
    "version": 3
   },
   "file_extension": ".py",
   "mimetype": "text/x-python",
   "name": "python",
   "nbconvert_exporter": "python",
   "pygments_lexer": "ipython3",
   "version": "3.13.1"
  }
 },
 "nbformat": 4,
 "nbformat_minor": 5
}
