{
 "cells": [
  {
   "metadata": {},
   "cell_type": "markdown",
   "source": [
    "### Principal Component Analysis (PCA)\n",
    "\n",
    "##### Steps for PCA\n",
    "1. Standardize the d-dimensional dataset\n",
    "2. Construct the covariance matrix\n",
    "3. Decompose the covariance matrix into its eigenvectors and eigenvalues\n",
    "4. Sort the eigenvalues by decreasing order in order to rank the eigenvectors\n",
    "5. Select k eigenvectors, which correspond to the k largest eigenvalues, where k is the dimensionality of the new feature subspace (k<<d)\n",
    "6. Construct a projection matrix W, from the top k eigenvectors\n",
    "7. Transform the d-dimensional dataset, X, using the projection matrix W, to obtain the new k-dimensional feature subspace"
   ],
   "id": "37ebda69207f46e7"
  },
  {
   "metadata": {},
   "cell_type": "markdown",
   "source": [
    "### Extracting the principal components step by step\n",
    "\n",
    "#### Importing dataset"
   ],
   "id": "4ff9d6a37ab3a777"
  },
  {
   "metadata": {
    "ExecuteTime": {
     "end_time": "2024-10-03T21:01:50.417485Z",
     "start_time": "2024-10-03T21:01:49.682867Z"
    }
   },
   "cell_type": "code",
   "source": [
    "import pandas as pd\n",
    "\n",
    "df_wine = pd.read_csv('https://archive.ics.uci.edu/ml/machine-learning-databases/wine/wine.data', header=None)\n",
    "\n",
    "df_wine.head()"
   ],
   "id": "cb5cbc289986a669",
   "outputs": [
    {
     "data": {
      "text/plain": [
       "   0      1     2     3     4    5     6     7     8     9     10    11    12  \\\n",
       "0   1  14.23  1.71  2.43  15.6  127  2.80  3.06  0.28  2.29  5.64  1.04  3.92   \n",
       "1   1  13.20  1.78  2.14  11.2  100  2.65  2.76  0.26  1.28  4.38  1.05  3.40   \n",
       "2   1  13.16  2.36  2.67  18.6  101  2.80  3.24  0.30  2.81  5.68  1.03  3.17   \n",
       "3   1  14.37  1.95  2.50  16.8  113  3.85  3.49  0.24  2.18  7.80  0.86  3.45   \n",
       "4   1  13.24  2.59  2.87  21.0  118  2.80  2.69  0.39  1.82  4.32  1.04  2.93   \n",
       "\n",
       "     13  \n",
       "0  1065  \n",
       "1  1050  \n",
       "2  1185  \n",
       "3  1480  \n",
       "4   735  "
      ],
      "text/html": [
       "<div>\n",
       "<style scoped>\n",
       "    .dataframe tbody tr th:only-of-type {\n",
       "        vertical-align: middle;\n",
       "    }\n",
       "\n",
       "    .dataframe tbody tr th {\n",
       "        vertical-align: top;\n",
       "    }\n",
       "\n",
       "    .dataframe thead th {\n",
       "        text-align: right;\n",
       "    }\n",
       "</style>\n",
       "<table border=\"1\" class=\"dataframe\">\n",
       "  <thead>\n",
       "    <tr style=\"text-align: right;\">\n",
       "      <th></th>\n",
       "      <th>0</th>\n",
       "      <th>1</th>\n",
       "      <th>2</th>\n",
       "      <th>3</th>\n",
       "      <th>4</th>\n",
       "      <th>5</th>\n",
       "      <th>6</th>\n",
       "      <th>7</th>\n",
       "      <th>8</th>\n",
       "      <th>9</th>\n",
       "      <th>10</th>\n",
       "      <th>11</th>\n",
       "      <th>12</th>\n",
       "      <th>13</th>\n",
       "    </tr>\n",
       "  </thead>\n",
       "  <tbody>\n",
       "    <tr>\n",
       "      <th>0</th>\n",
       "      <td>1</td>\n",
       "      <td>14.23</td>\n",
       "      <td>1.71</td>\n",
       "      <td>2.43</td>\n",
       "      <td>15.6</td>\n",
       "      <td>127</td>\n",
       "      <td>2.80</td>\n",
       "      <td>3.06</td>\n",
       "      <td>0.28</td>\n",
       "      <td>2.29</td>\n",
       "      <td>5.64</td>\n",
       "      <td>1.04</td>\n",
       "      <td>3.92</td>\n",
       "      <td>1065</td>\n",
       "    </tr>\n",
       "    <tr>\n",
       "      <th>1</th>\n",
       "      <td>1</td>\n",
       "      <td>13.20</td>\n",
       "      <td>1.78</td>\n",
       "      <td>2.14</td>\n",
       "      <td>11.2</td>\n",
       "      <td>100</td>\n",
       "      <td>2.65</td>\n",
       "      <td>2.76</td>\n",
       "      <td>0.26</td>\n",
       "      <td>1.28</td>\n",
       "      <td>4.38</td>\n",
       "      <td>1.05</td>\n",
       "      <td>3.40</td>\n",
       "      <td>1050</td>\n",
       "    </tr>\n",
       "    <tr>\n",
       "      <th>2</th>\n",
       "      <td>1</td>\n",
       "      <td>13.16</td>\n",
       "      <td>2.36</td>\n",
       "      <td>2.67</td>\n",
       "      <td>18.6</td>\n",
       "      <td>101</td>\n",
       "      <td>2.80</td>\n",
       "      <td>3.24</td>\n",
       "      <td>0.30</td>\n",
       "      <td>2.81</td>\n",
       "      <td>5.68</td>\n",
       "      <td>1.03</td>\n",
       "      <td>3.17</td>\n",
       "      <td>1185</td>\n",
       "    </tr>\n",
       "    <tr>\n",
       "      <th>3</th>\n",
       "      <td>1</td>\n",
       "      <td>14.37</td>\n",
       "      <td>1.95</td>\n",
       "      <td>2.50</td>\n",
       "      <td>16.8</td>\n",
       "      <td>113</td>\n",
       "      <td>3.85</td>\n",
       "      <td>3.49</td>\n",
       "      <td>0.24</td>\n",
       "      <td>2.18</td>\n",
       "      <td>7.80</td>\n",
       "      <td>0.86</td>\n",
       "      <td>3.45</td>\n",
       "      <td>1480</td>\n",
       "    </tr>\n",
       "    <tr>\n",
       "      <th>4</th>\n",
       "      <td>1</td>\n",
       "      <td>13.24</td>\n",
       "      <td>2.59</td>\n",
       "      <td>2.87</td>\n",
       "      <td>21.0</td>\n",
       "      <td>118</td>\n",
       "      <td>2.80</td>\n",
       "      <td>2.69</td>\n",
       "      <td>0.39</td>\n",
       "      <td>1.82</td>\n",
       "      <td>4.32</td>\n",
       "      <td>1.04</td>\n",
       "      <td>2.93</td>\n",
       "      <td>735</td>\n",
       "    </tr>\n",
       "  </tbody>\n",
       "</table>\n",
       "</div>"
      ]
     },
     "execution_count": 2,
     "metadata": {},
     "output_type": "execute_result"
    }
   ],
   "execution_count": 2
  },
  {
   "metadata": {},
   "cell_type": "markdown",
   "source": "#### Separate data into training and test dataset using 70/30 formula and standardize them to unit variance",
   "id": "d55d7cfa734c88ad"
  },
  {
   "metadata": {
    "ExecuteTime": {
     "end_time": "2024-10-03T21:01:57.232875Z",
     "start_time": "2024-10-03T21:01:57.225826Z"
    }
   },
   "cell_type": "code",
   "source": [
    "from sklearn.model_selection import train_test_split\n",
    "\n",
    "X, y =  df_wine.iloc[:, 1:].values, df_wine.iloc[:, 0].values\n",
    "X_train, X_test, y_train, y_test = train_test_split(X, y, test_size=0.3, random_state=0, stratify=y)\n",
    "\n",
    "# Standardize the features\n",
    "from sklearn.preprocessing import StandardScaler\n",
    "sc = StandardScaler()\n",
    "X_train_std = sc.fit_transform(X_train)\n",
    "X_test_std = sc.transform(X_test)\n"
   ],
   "id": "6c8d4346bedbff29",
   "outputs": [],
   "execution_count": 4
  },
  {
   "metadata": {},
   "cell_type": "markdown",
   "source": "#### Calculate covariance matrix and decompose into eigenvalues and eigenvectors",
   "id": "73925e7aea2c1e6a"
  },
  {
   "metadata": {
    "ExecuteTime": {
     "end_time": "2024-10-03T21:04:29.542252Z",
     "start_time": "2024-10-03T21:04:29.536970Z"
    }
   },
   "cell_type": "code",
   "source": [
    "import numpy as np\n",
    "\n",
    "covariance_matrix = np.cov(X_train_std.T)\n",
    "\n",
    "eigenvalues, eigenvectors = np.linalg.eig(covariance_matrix)\n",
    "\n",
    "\n",
    "print('Eigenvalues: ', eigenvalues)"
   ],
   "id": "afb8d63d8293e589",
   "outputs": [
    {
     "name": "stdout",
     "output_type": "stream",
     "text": [
      "Eigenvalues:  [4.84274532 2.41602459 1.54845825 0.96120438 0.84166161 0.6620634\n",
      " 0.51828472 0.34650377 0.3131368  0.10754642 0.21357215 0.15362835\n",
      " 0.1808613 ]\n"
     ]
    }
   ],
   "execution_count": 13
  },
  {
   "metadata": {},
   "cell_type": "markdown",
   "source": "#### Sort the eigenvalues in decreasing order rank the eigenvectors",
   "id": "25a5fef5ce459fe0"
  },
  {
   "metadata": {
    "ExecuteTime": {
     "end_time": "2024-10-03T21:08:45.403712Z",
     "start_time": "2024-10-03T21:08:44.748355Z"
    }
   },
   "cell_type": "code",
   "source": [
    "total = sum(eigenvalues)\n",
    "variance_explained = [(i / total) for i in sorted(eigenvalues, reverse=True)]\n",
    "cumulative_sum_var_exp = np.cumsum(variance_explained)\n",
    "\n",
    "import matplotlib.pyplot as plt\n",
    "plt.bar(range(1,14), variance_explained, align='center', label='Individual explained variance')\n",
    "plt.step(range(1,14), cumulative_sum_var_exp, where='mid', label='Cumulative explained variance')\n",
    "plt.ylabel('Explained variance ratio')\n",
    "plt.xlabel('Principal component index')\n",
    "plt.legend(loc='best')\n",
    "plt.tight_layout()\n",
    "plt.show()"
   ],
   "id": "8878292eec6b7fe9",
   "outputs": [
    {
     "data": {
      "text/plain": [
       "<Figure size 640x480 with 1 Axes>"
      ],
      "image/png": "[encoded data removed]"
     },
     "metadata": {},
     "output_type": "display_data"
    }
   ],
   "execution_count": 14
  },
  {
   "metadata": {},
   "cell_type": "markdown",
   "source": [
    "### Feature transformation\n",
    "Now that we have successfully decomposed the covariance matrix into eigenpairs, let’s proceed with the last three steps to transform the Wine dataset onto the new principal component axes. The remaining steps we are going to tackle in this section are the following:\n",
    "\n",
    "1. Select k eigenvectors, which correspond to the k largest eigenvalues, where k is the dimensionality of the new feature subspace.\n",
    "2. Construct a projection matrix, W, from the “top” k eigenvectors.\n",
    "3. Transform the d-dimensional input dataset, X, using the projection matrix, W, to obtain the new k-dimensional feature subspace."
   ],
   "id": "278f37c94b8feda4"
  },
  {
   "metadata": {
    "ExecuteTime": {
     "end_time": "2024-10-03T21:15:58.331640Z",
     "start_time": "2024-10-03T21:15:58.328344Z"
    }
   },
   "cell_type": "code",
   "source": [
    "# Make a list of (eigenvalue, eigenvector) tuples\n",
    "eigen_pairs = [(np.abs(eigenvalues[i]), eigenvectors[:, i]) for i in range(len(eigenvalues))]\n",
    "# Sort the (eigenvalue, eigenvector) tuples from high to low\n",
    "eigen_pairs.sort(key=lambda k: k[0], reverse=True)"
   ],
   "id": "dae4da7c24348d80",
   "outputs": [],
   "execution_count": 16
  },
  {
   "metadata": {
    "ExecuteTime": {
     "end_time": "2024-10-03T21:15:59.776319Z",
     "start_time": "2024-10-03T21:15:59.772325Z"
    }
   },
   "cell_type": "code",
   "source": [
    "# Choosing the first 2 eigenvalues so we cover the 60% of the variance in the dataset\n",
    "w = np.hstack((eigen_pairs[0][1][:, np.newaxis], eigen_pairs[1][1][:, np.newaxis]))\n",
    "\n",
    "print(w)"
   ],
   "id": "4c9140b68437224d",
   "outputs": [
    {
     "name": "stdout",
     "output_type": "stream",
     "text": [
      "[[-0.13724218  0.50303478]\n",
      " [ 0.24724326  0.16487119]\n",
      " [-0.02545159  0.24456476]\n",
      " [ 0.20694508 -0.11352904]\n",
      " [-0.15436582  0.28974518]\n",
      " [-0.39376952  0.05080104]\n",
      " [-0.41735106 -0.02287338]\n",
      " [ 0.30572896  0.09048885]\n",
      " [-0.30668347  0.00835233]\n",
      " [ 0.07554066  0.54977581]\n",
      " [-0.32613263 -0.20716433]\n",
      " [-0.36861022 -0.24902536]\n",
      " [-0.29669651  0.38022942]]\n"
     ]
    }
   ],
   "execution_count": 17
  },
  {
   "metadata": {},
   "cell_type": "markdown",
   "source": [
    "By executing the preceding code, we have created a 13×2-dimensional projection matrix, W, from the\n",
    "top two eigenvectors.\n",
    "\n",
    "Using the projection matrix, we can now transform an example, x (represented as a 13-dimensional\n",
    "row vector), onto the PCA subspace (the principal components one and two) obtaining x′, now a\n",
    "two-dimensional example vector consisting of two new features:"
   ],
   "id": "7e1bc4007806dec7"
  },
  {
   "metadata": {
    "ExecuteTime": {
     "end_time": "2024-10-03T21:17:23.363616Z",
     "start_time": "2024-10-03T21:17:23.359234Z"
    }
   },
   "cell_type": "code",
   "source": [
    "X_train_pca = X_train_std.dot(w)\n",
    "print(X_train_pca)"
   ],
   "id": "177675257da621e5",
   "outputs": [
    {
     "name": "stdout",
     "output_type": "stream",
     "text": [
      "[[ 2.38299011  0.45458499]\n",
      " [-1.96578183  1.65376939]\n",
      " [-2.53907598  1.02909066]\n",
      " [-1.43010776  0.6024011 ]\n",
      " [ 3.14147227  0.66214979]\n",
      " [ 0.50253552 -2.08907131]\n",
      " [ 0.04867722 -2.27536044]\n",
      " [ 2.47888989 -0.08603318]\n",
      " [ 2.01900259 -1.3538719 ]\n",
      " [ 0.75156583 -2.55367947]\n",
      " [ 0.72268915 -1.18404391]\n",
      " [-3.00366211  0.94626934]\n",
      " [ 2.57518878 -1.0697549 ]\n",
      " [ 3.73151104  1.01968876]\n",
      " [-1.12276518  0.13877   ]\n",
      " [ 2.85996853  2.28819559]\n",
      " [-0.74717125 -3.21746061]\n",
      " [-1.58427878  0.16048055]\n",
      " [ 3.38887101  2.11550689]\n",
      " [ 3.15405473  0.54233966]\n",
      " [-1.28036506 -1.72926871]\n",
      " [-1.71438911  0.71745249]\n",
      " [-1.55040291 -1.7580591 ]\n",
      " [ 1.10984489 -1.20480693]\n",
      " [-0.69108418 -1.71385374]\n",
      " [-2.086036   -1.68453671]\n",
      " [ 2.90393456  1.95258805]\n",
      " [-2.07635784  1.47183304]\n",
      " [-1.74756185 -1.25842546]\n",
      " [ 2.59424456 -0.1056037 ]\n",
      " [-2.50372355  0.70412212]\n",
      " [-2.19448402  2.18657552]\n",
      " [ 3.91634534  0.16136475]\n",
      " [-1.11739618  0.51921086]\n",
      " [-0.89996804 -2.04759575]\n",
      " [-1.71469178  0.61392169]\n",
      " [-2.48581303  0.76839561]\n",
      " [-0.76080562 -1.67615627]\n",
      " [ 2.9265371   0.18854741]\n",
      " [ 2.94423716  1.34812388]\n",
      " [-2.38993219  1.0848074 ]\n",
      " [ 2.63885049  0.75274937]\n",
      " [ 2.51009031  2.25237953]\n",
      " [ 3.65248086  1.74839925]\n",
      " [-2.65169609  1.01997476]\n",
      " [ 0.52544559 -2.13528249]\n",
      " [ 2.70197573  0.56476307]\n",
      " [ 3.18414708  2.58094695]\n",
      " [ 1.12517041 -1.85054449]\n",
      " [ 2.92366519  0.41699915]\n",
      " [-1.96122314 -1.28613661]\n",
      " [ 0.54473673 -1.07897226]\n",
      " [-0.77030308 -1.93386815]\n",
      " [-1.16670455  0.00489815]\n",
      " [-1.36475309 -2.13572269]\n",
      " [ 0.43563732 -2.56929607]\n",
      " [ 2.96191745  1.91091009]\n",
      " [ 2.83609557  0.65386032]\n",
      " [ 1.90402089 -0.35296542]\n",
      " [-2.4858391  -0.21308835]\n",
      " [-2.16575568  1.1468486 ]\n",
      " [ 0.00669776 -0.94337624]\n",
      " [ 1.06560181  3.31221025]\n",
      " [ 2.13117911  1.90551304]\n",
      " [ 1.53543483 -1.50854979]\n",
      " [-2.66783112  1.75933599]\n",
      " [ 0.57279998 -2.7511383 ]\n",
      " [-0.70710916 -2.43798549]\n",
      " [-0.99606577 -1.4772411 ]\n",
      " [-2.67324153  1.35779609]\n",
      " [-2.36367378  1.66537927]\n",
      " [-0.39171875  0.13747499]\n",
      " [-2.98908845  2.16983165]\n",
      " [-1.91822539  1.60141809]\n",
      " [ 2.3114458   0.207123  ]\n",
      " [-1.06050503  0.6004608 ]\n",
      " [-2.74858609 -0.29016054]\n",
      " [ 2.26650077  2.14491758]\n",
      " [-1.15517469 -0.50262909]\n",
      " [ 0.16602503 -2.26850051]\n",
      " [ 1.35589389  0.33353007]\n",
      " [-3.31185057  1.39240115]\n",
      " [-0.33245686 -2.15639865]\n",
      " [-2.23205085  0.52868143]\n",
      " [ 0.18583758 -1.44446967]\n",
      " [ 0.84560856  0.17151684]\n",
      " [ 2.69500472  2.74522492]\n",
      " [ 0.44645674 -0.62393943]\n",
      " [-1.88961007 -0.04400723]\n",
      " [-3.08131761  1.59724429]\n",
      " [-3.45716348  1.21428442]\n",
      " [ 3.87665629  0.46446004]\n",
      " [ 1.575516   -1.82299839]\n",
      " [-3.43344371  1.6116814 ]\n",
      " [-4.20642597  2.20145366]\n",
      " [-0.14042971 -2.36871639]\n",
      " [ 1.82731521 -1.39485103]\n",
      " [ 2.20564744  1.28462066]\n",
      " [ 1.64999054  2.33211134]\n",
      " [-1.4611033  -0.46480324]\n",
      " [-0.60047516  0.00920072]\n",
      " [-3.08276231  0.28287148]\n",
      " [ 0.45035749 -2.20263755]\n",
      " [ 0.90806897 -2.0881686 ]\n",
      " [ 3.24973637 -0.18273485]\n",
      " [-3.07882055  0.69622621]\n",
      " [ 2.54277306  1.88571652]\n",
      " [-2.84838157  0.63274325]\n",
      " [-0.88997271 -0.67927226]\n",
      " [ 0.32368249 -2.07006175]\n",
      " [ 0.32007527 -2.88708519]\n",
      " [ 0.44889188 -2.14872532]\n",
      " [-2.46582558  1.0745577 ]\n",
      " [ 2.81678113  0.56344444]\n",
      " [-2.16983025  0.16644199]\n",
      " [-2.66728229  1.38137702]\n",
      " [-3.53223924  2.57906029]\n",
      " [-1.96637688  1.18319185]\n",
      " [ 1.68741216 -1.35075321]\n",
      " [ 0.43521077 -2.40355817]\n",
      " [ 2.59045115  1.63852921]\n",
      " [ 4.35308397  0.66536041]\n",
      " [-1.84315373 -1.50688415]\n",
      " [-0.40860955 -1.29720607]]\n"
     ]
    }
   ],
   "execution_count": 19
  },
  {
   "metadata": {},
   "cell_type": "markdown",
   "source": "",
   "id": "53ee720c5fcc8a5b"
  },
  {
   "metadata": {},
   "cell_type": "markdown",
   "source": "",
   "id": "494621ab6b192b4d"
  }
 ],
 "metadata": {
  "kernelspec": {
   "display_name": "Python 3",
   "language": "python",
   "name": "python3"
  },
  "language_info": {
   "codemirror_mode": {
    "name": "ipython",
    "version": 2
   },
   "file_extension": ".py",
   "mimetype": "text/x-python",
   "name": "python",
   "nbconvert_exporter": "python",
   "pygments_lexer": "ipython2",
   "version": "2.7.6"
  }
 },
 "nbformat": 4,
 "nbformat_minor": 5
}
