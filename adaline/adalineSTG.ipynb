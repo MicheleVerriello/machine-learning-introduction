{
 "cells": [
  {
   "metadata": {},
   "cell_type": "markdown",
   "source": "### Adaline With Stochastic Gradient Descent",
   "id": "b683dc30563bd132"
  },
  {
   "metadata": {},
   "cell_type": "markdown",
   "source": "Imports",
   "id": "496697f64592b8c0"
  },
  {
   "cell_type": "code",
   "id": "initial_id",
   "metadata": {
    "collapsed": true,
    "ExecuteTime": {
     "end_time": "2024-09-22T14:37:55.209367Z",
     "start_time": "2024-09-22T14:37:55.206299Z"
    }
   },
   "source": "import numpy as np",
   "outputs": [],
   "execution_count": 63
  },
  {
   "metadata": {},
   "cell_type": "markdown",
   "source": "",
   "id": "d0b7bfea37976ccd"
  },
  {
   "metadata": {
    "ExecuteTime": {
     "end_time": "2024-09-22T14:37:55.224874Z",
     "start_time": "2024-09-22T14:37:55.216414Z"
    }
   },
   "cell_type": "code",
   "source": [
    "class AdalineSTG:\n",
    "\n",
    "    \"\"\"\n",
    "    Parameters\n",
    "    ----------\n",
    "    eta: is the learning rate, can go from 0.00 to 1.00\n",
    "    n_iter: is the number of iterations, the maximum number of iterations is called epochs\n",
    "    random_state: is the seed for the numpy random number generator for initializing the weights\n",
    "    shuffle: bool Shuffles training data every epoch if True to prevent cycles\n",
    "    Attributes\n",
    "    ----------\n",
    "    \n",
    "    w_ : the weights vector\n",
    "    b_ : the bias value\n",
    "    \n",
    "    \n",
    "    \n",
    "    \"\"\"\n",
    "\n",
    "    def __init__(self, eta=0.01, n_iter=50, random_state=None, shuffle=True):\n",
    "        self.eta = eta\n",
    "        self.n_iter = n_iter\n",
    "        self.random_state = random_state\n",
    "        self.shuffle = shuffle\n",
    "        self.weights_initialized = False\n",
    "        \n",
    "    \n",
    "    \n",
    "    def fit(self, X, y):\n",
    "        \"\"\"\n",
    "        Fit training data\n",
    "        :param X: shape is (n_examples, n_features)\n",
    "        :param y: shape is (n_examples), is the target values array\n",
    "        \"\"\"\n",
    "    \n",
    "        self._initialize_weights(X.shape[1])\n",
    "        self.losses_ = []\n",
    "        \n",
    "        for i in range(self.n_iter):\n",
    "            if self.shuffle:\n",
    "                X, y = self._shuffle(X, y)\n",
    "            \n",
    "            losses = []\n",
    "            for xi, target in zip(X, y):\n",
    "                losses.append(self.update_weights(xi, target))\n",
    "                \n",
    "            avg_loss = np.mean(losses)\n",
    "            print(avg_loss)\n",
    "            self.losses_.append(avg_loss)    \n",
    "        \n",
    "        return self\n",
    "    \n",
    "    def net_input(self, X):\n",
    "        return np.dot(X, self.w_) + self.b_\n",
    "    \n",
    "    def activation(self, X):\n",
    "        return X\n",
    "    \n",
    "    def _shuffle(self, X, y):\n",
    "        r = self.rgen.permutation(len(y))\n",
    "        return X[r], y[r]\n",
    "        \n",
    "    def _initialize_weights(self, m):\n",
    "        \"\"\"Initialize weights to a small random number\"\"\"\n",
    "        self.rgen = np.random.RandomState(self.random_state)\n",
    "        self.w_ = self.rgen.normal(loc=0.0, scale=0.01, size=m)\n",
    "        self.b_ = np.float32(0.)\n",
    "        self.weights_initialized = True\n",
    "        \n",
    "    def update_weights(self, xi, target):\n",
    "        \"\"\"Apply Adaline rule only to one sample\"\"\"\n",
    "        output = self.net_input(xi)\n",
    "        error = (target - output)\n",
    "        self.w_ += self.eta * 2.0 * xi * error\n",
    "        self.b_ += self.eta * 2.0 * error\n",
    "        \n",
    "        loss = error**2\n",
    "        return loss\n",
    "    \n",
    "    def predict(self, X):\n",
    "        \"\"\"Return class label after unit step\"\"\"\n",
    "        return np.where(self.activation(self.net_input(X)) >= 0.5, 1, 0)"
   ],
   "id": "3ba1d7d04f9f9820",
   "outputs": [],
   "execution_count": 64
  },
  {
   "metadata": {},
   "cell_type": "markdown",
   "source": [
    "### Training\n",
    "\n",
    "Loading dataset"
   ],
   "id": "5d25de1b9c0dd11b"
  },
  {
   "metadata": {
    "ExecuteTime": {
     "end_time": "2024-09-22T14:37:55.236267Z",
     "start_time": "2024-09-22T14:37:55.234096Z"
    }
   },
   "cell_type": "code",
   "source": [
    "import pandas as pd\n",
    "import matplotlib.pyplot as plt"
   ],
   "id": "d1ed3374e3d382c4",
   "outputs": [],
   "execution_count": 65
  },
  {
   "metadata": {
    "ExecuteTime": {
     "end_time": "2024-09-22T14:38:04.800760Z",
     "start_time": "2024-09-22T14:37:55.244505Z"
    }
   },
   "cell_type": "code",
   "source": [
    "s = 'https://archive.ics.uci.edu/ml/machine-learning-databases/iris/iris.data'\n",
    "\n",
    "df = pd.read_csv(s, header=None, encoding=u'utf-8')\n",
    "\n",
    "print(df.head())"
   ],
   "id": "2d535316b557238f",
   "outputs": [
    {
     "name": "stdout",
     "output_type": "stream",
     "text": [
      "     0    1    2    3            4\n",
      "0  5.1  3.5  1.4  0.2  Iris-setosa\n",
      "1  4.9  3.0  1.4  0.2  Iris-setosa\n",
      "2  4.7  3.2  1.3  0.2  Iris-setosa\n",
      "3  4.6  3.1  1.5  0.2  Iris-setosa\n",
      "4  5.0  3.6  1.4  0.2  Iris-setosa\n"
     ]
    }
   ],
   "execution_count": 66
  },
  {
   "metadata": {},
   "cell_type": "markdown",
   "source": "Extracting only useful features",
   "id": "14cdbff24e5b7c32"
  },
  {
   "metadata": {
    "ExecuteTime": {
     "end_time": "2024-09-22T14:38:04.887075Z",
     "start_time": "2024-09-22T14:38:04.817130Z"
    }
   },
   "cell_type": "code",
   "source": [
    "# Select only setosa and versicolor\n",
    "y = df.iloc[0:100, 4].values\n",
    "y = np.where(y == 'Iris-setosa', 0, 1)\n",
    "\n",
    "# Extract sepal and petal length\n",
    "X = df.iloc[0:100, [0, 2]].values\n",
    "\n",
    "# Plot data\n",
    "plt.scatter(X[:50, 0], X[:50, 1], c='red', marker='o', label='Setosa')\n",
    "plt.scatter(X[50:100, 0], X[50:100, 1], c='blue', marker='s', label='Versicolor')\n",
    "plt.xlabel('Sepal length [cm]')\n",
    "plt.ylabel('Petal length [cm]')\n",
    "plt.legend(loc='upper left')\n",
    "plt.show()"
   ],
   "id": "b6b0fba7f726fcd2",
   "outputs": [
    {
     "data": {
      "text/plain": [
       "<Figure size 640x480 with 1 Axes>"
      ],
      "image/png": "[encoded data removed]"
     },
     "metadata": {},
     "output_type": "display_data"
    }
   ],
   "execution_count": 67
  },
  {
   "metadata": {},
   "cell_type": "markdown",
   "source": "Training",
   "id": "70d8bc41d540f513"
  },
  {
   "metadata": {
    "ExecuteTime": {
     "end_time": "2024-09-22T14:38:54.096830Z",
     "start_time": "2024-09-22T14:38:54.021717Z"
    }
   },
   "cell_type": "code",
   "source": [
    "from datetime import datetime\n",
    "\n",
    "ada = AdalineSTG(eta=0.001, n_iter=15)\n",
    "start = datetime.now()\n",
    "print(start)\n",
    "ada.fit(X, y)\n",
    "\n",
    "\n",
    "end = datetime.now()\n",
    "print(end)\n",
    "print(\"total time: \", end - start)\n",
    "\n",
    "plt.plot(range(1, len(ada.losses_) + 1), ada.losses_, marker='o')\n",
    "plt.xlabel('Epochs')\n",
    "plt.ylabel('Loss')\n",
    "plt.show()\n",
    "\n",
    "\n",
    "\n"
   ],
   "id": "eb72c6d922332d39",
   "outputs": [
    {
     "name": "stdout",
     "output_type": "stream",
     "text": [
      "2024-09-22 16:38:54.023979\n",
      "0.17629895945552454\n",
      "0.10159113626786256\n",
      "0.06880521505213098\n",
      "0.04973533498878565\n",
      "0.03573521713732666\n",
      "0.028050917755369456\n",
      "0.022390784902922414\n",
      "0.019126570358450265\n",
      "0.016950754365052677\n",
      "0.014875307844477588\n",
      "0.014973504767486807\n",
      "0.014253000043927676\n",
      "0.01378587881674615\n",
      "0.013809873925810687\n",
      "0.013705026788400196\n",
      "2024-09-22 16:38:54.033360\n",
      "total time:  0:00:00.009381\n"
     ]
    },
    {
     "data": {
      "text/plain": [
       "<Figure size 640x480 with 1 Axes>"
      ],
      "image/png": "[encoded data removed]"
     },
     "metadata": {},
     "output_type": "display_data"
    }
   ],
   "execution_count": 72
  },
  {
   "metadata": {
    "ExecuteTime": {
     "end_time": "2024-09-22T14:38:05.016103Z",
     "start_time": "2024-09-22T14:38:05.014528Z"
    }
   },
   "cell_type": "code",
   "source": "",
   "id": "d374fc1ad8b5ccb5",
   "outputs": [],
   "execution_count": null
  }
 ],
 "metadata": {
  "kernelspec": {
   "display_name": "Python 3",
   "language": "python",
   "name": "python3"
  },
  "language_info": {
   "codemirror_mode": {
    "name": "ipython",
    "version": 2
   },
   "file_extension": ".py",
   "mimetype": "text/x-python",
   "name": "python",
   "nbconvert_exporter": "python",
   "pygments_lexer": "ipython2",
   "version": "2.7.6"
  }
 },
 "nbformat": 4,
 "nbformat_minor": 5
}
