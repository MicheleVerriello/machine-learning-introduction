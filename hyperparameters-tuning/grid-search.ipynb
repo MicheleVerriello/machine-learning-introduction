{
 "cells": [
  {
   "metadata": {},
   "cell_type": "markdown",
   "source": "# Hyperparameters tuning via Grid Search",
   "id": "5fe0d13441cb8294"
  },
  {
   "metadata": {},
   "cell_type": "markdown",
   "source": "### Importing Dataset",
   "id": "47dcbe07457f4231"
  },
  {
   "metadata": {
    "ExecuteTime": {
     "end_time": "2024-10-07T11:30:47.575351Z",
     "start_time": "2024-10-07T11:30:46.308997Z"
    }
   },
   "cell_type": "code",
   "source": [
    "import pandas as pd\n",
    "from sklearn.preprocessing import LabelEncoder\n",
    "from sklearn.model_selection import train_test_split\n",
    "\n",
    "# Loading the Breast Cancer Wisconsin dataset\n",
    "\n",
    "df = pd.read_csv('https://archive.ics.uci.edu/ml/machine-learning-databases/breast-cancer-wisconsin/wdbc.data',\n",
    "header=None\n",
    ")\n",
    "\n",
    "X = df.loc[:, 2:].values\n",
    "y = df.loc[:, 1].values\n",
    "le = LabelEncoder()\n",
    "y = le.fit_transform(y)\n",
    "\n",
    "\n",
    "\n",
    "\n",
    "X_train, X_test, y_train, y_test = train_test_split(X, y, test_size=0.2, random_state=1, stratify=y)\n"
   ],
   "id": "63f008627d832f8c",
   "outputs": [],
   "execution_count": 4
  },
  {
   "metadata": {},
   "cell_type": "markdown",
   "source": [
    "### Tuning hyperparameters via grid search\n",
    "The grid search approach is quite simple: it’s a brute-force exhaustive search paradigm where we specify a list of values for different hyperparameters, and the computer evaluates the model performance for each combination to obtain the optimal combination of values from this set:"
   ],
   "id": "d371152b17164348"
  },
  {
   "metadata": {
    "ExecuteTime": {
     "end_time": "2024-10-07T11:31:11.914527Z",
     "start_time": "2024-10-07T11:31:10.501669Z"
    }
   },
   "cell_type": "code",
   "source": [
    "from sklearn.model_selection import GridSearchCV\n",
    "from sklearn.pipeline import make_pipeline\n",
    "from sklearn.preprocessing import StandardScaler\n",
    "from sklearn.svm import SVC\n",
    "\n",
    "\n",
    "pipeline_svc = make_pipeline(StandardScaler(), SVC(random_state=1))\n",
    "\n",
    "param_range = [0.0001, 0.001, 0.01, 0.1, 1.0, 10.0, 100.0, 1000.0]\n",
    "\n",
    "''' The param grid is a list of dictionaries to specify the parameters that we want to tune.\n",
    " For the linear SVM, we only evaluated the inverse regularization parameter, C; for the radial basis function (RBF) kernel SVM, we tuned both the svc__C and svc__gamma parameters. Note that the svc__gamma parameter is specific to kernel SVMs.\n",
    "'''\n",
    "\n",
    "param_grid = [\n",
    "    {\n",
    "        'svc__C': param_range,\n",
    "        'svc__kernel': ['linear']\n",
    "    },\n",
    "    {\n",
    "        'svc__C': param_range,\n",
    "        'svc__gamma': param_range,\n",
    "        'svc__kernel': ['rbf']\n",
    "    }\n",
    "]\n",
    "\n",
    "# Grid search use k-fold cross-validation for comparing the models with different hyperparameters\n",
    "gs = GridSearchCV(\n",
    "    estimator=pipeline_svc,\n",
    "    param_grid=param_grid,\n",
    "    scoring='accuracy',\n",
    "    n_jobs=-1,\n",
    "    cv=10, # Cross-Validation\n",
    "    refit=True\n",
    ")\n",
    "\n",
    "gs = gs.fit(X_train, y_train)\n",
    "\n",
    "print(f'Best Score: {gs.best_score_}')\n",
    "print(f'Best Params: {gs.best_params_}')\n"
   ],
   "id": "89ba30f02ac52f3c",
   "outputs": [
    {
     "name": "stdout",
     "output_type": "stream",
     "text": [
      "Best Score: 0.9846859903381642\n",
      "Best Params: {'svc__C': 100.0, 'svc__gamma': 0.001, 'svc__kernel': 'rbf'}\n"
     ]
    }
   ],
   "execution_count": 7
  },
  {
   "metadata": {},
   "cell_type": "markdown",
   "source": [
    "### Estimate performance of best selected model\n",
    "To estimate the performance of the best selected mode we used the indipendent test dataset "
   ],
   "id": "31726ebe9c7a27ed"
  },
  {
   "metadata": {
    "ExecuteTime": {
     "end_time": "2024-10-07T11:31:18.388569Z",
     "start_time": "2024-10-07T11:31:18.378024Z"
    }
   },
   "cell_type": "code",
   "source": [
    "classifier = gs.best_estimator_\n",
    "classifier.fit(X_train, y_train)\n",
    "print(f'Test accuracy: {classifier.score(X_test, y_test)}')"
   ],
   "id": "ab41999312a156da",
   "outputs": [
    {
     "name": "stdout",
     "output_type": "stream",
     "text": [
      "Test accuracy: 0.9736842105263158\n"
     ]
    }
   ],
   "execution_count": 8
  }
 ],
 "metadata": {
  "kernelspec": {
   "display_name": "Python 3",
   "language": "python",
   "name": "python3"
  },
  "language_info": {
   "codemirror_mode": {
    "name": "ipython",
    "version": 2
   },
   "file_extension": ".py",
   "mimetype": "text/x-python",
   "name": "python",
   "nbconvert_exporter": "python",
   "pygments_lexer": "ipython2",
   "version": "2.7.6"
  }
 },
 "nbformat": 4,
 "nbformat_minor": 5
}
